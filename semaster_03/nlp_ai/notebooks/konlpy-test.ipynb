{
 "cells": [
  {
   "cell_type": "code",
   "execution_count": 2,
   "id": "ef6bb859-82c4-4a96-bbf7-5f564515ebab",
   "metadata": {},
   "outputs": [],
   "source": [
    "# https://konlpy.org/ko/v0.5.2/references/\n",
    "# https://konlpy.org/ko/v0.5.2/#api\n",
    "\n",
    "from konlpy.utils import pprint\n",
    "\n",
    "\"\"\"\n",
    "morphs : 형태소 추출\n",
    "nouns : 명사 추출\n",
    "pos : 품사 부착\n",
    "\"\"\""
   ]
  },
  {
   "cell_type": "code",
   "execution_count": 3,
   "id": "d73c53f9-3d9c-460f-9e91-ffeadfcba769",
   "metadata": {},
   "outputs": [
    {
     "name": "stdout",
     "output_type": "stream",
     "text": [
      "['단독', '입찰', '보다', '복수', '입찰', '의', '경우']\n",
      "['항공기', '체계', '종합', '개발', '경험']\n",
      "['날카로운 분석', '날카로운 분석과 신뢰감', '날카로운 분석과 신뢰감 있는 진행', '분석', '신뢰', '진행']\n",
      "[('이', 'Determiner'), ('것', 'Noun'), ('도', 'Josa'), ('되나욬', 'Noun'), ('ㅋㅋ', 'KoreanParticle')]\n"
     ]
    }
   ],
   "source": [
    "from konlpy.tag import Okt\n",
    "okt = Okt()\n",
    "print(okt.morphs(u'단독입찰보다 복수입찰의 경우'))\n",
    "print(okt.nouns(u'유일하게 항공기 체계 종합개발 경험을 갖고 있는 KAI 는'))\n",
    "print(okt.phrases(u'날카로운 분석과 신뢰감 있는 진행으로'))\n",
    "print(okt.pos(u'이것도 되나욬ㅋㅋ'))"
   ]
  },
  {
   "cell_type": "code",
   "execution_count": 4,
   "id": "0895d7c7-4db0-4a67-93ee-3e51c8327f14",
   "metadata": {},
   "outputs": [
    {
     "name": "stdout",
     "output_type": "stream",
     "text": [
      "['영등포구청역', '에', '있', '는', '맛집', '좀', '알려', '주', '세요', '.']\n",
      "['우리', '나라', '무릎', '치료', '정형', '외과']\n",
      "[('자연주의', 'NNG'), ('쇼핑몰', 'NNG'), ('은', 'JX'), ('어떤', 'MM'), ('곳', 'NNG'), ('인가', 'VCP+EF'), ('?', 'SF')]\n"
     ]
    }
   ],
   "source": [
    "from konlpy.tag import Mecab # Linux ONLY --> No Windows!\n",
    "mecab = Mecab()\n",
    "print(mecab.morphs(u'영등포구청역에 있는 맛집 좀 알려주세요.'))\n",
    "print(mecab.nouns(u'우리나라에는 무릎 치료를 잘하는 정형외과가 없는가!'))\n",
    "print(mecab.pos(u'자연주의 쇼핑몰은 어떤 곳인가?'))"
   ]
  },
  {
   "cell_type": "code",
   "execution_count": 5,
   "id": "46bc34f4-e63d-4d94-bd91-d49d43dc3be1",
   "metadata": {},
   "outputs": [
    {
     "name": "stdout",
     "output_type": "stream",
     "text": [
      "['네 , 안녕하세요.', '반갑습니다.']\n",
      "['질문', '건의', '건의사항', '사항', '깃헙', '이슈', '트래커']\n",
      "[('오류', 'NNG'),\n",
      " ('보고', 'NNG'),\n",
      " ('는', 'JX'),\n",
      " ('실행', 'NNG'),\n",
      " ('환경', 'NNG'),\n",
      " (',', 'SP'),\n",
      " ('에러', 'NNG'),\n",
      " ('메세지', 'NNG'),\n",
      " ('와', 'JKM'),\n",
      " ('함께', 'MAG'),\n",
      " ('설명', 'NNG'),\n",
      " ('을', 'JKO'),\n",
      " ('최대한', 'NNG'),\n",
      " ('상세히', 'MAG'),\n",
      " ('!', 'SF'),\n",
      " ('^^', 'EMO')]\n"
     ]
    }
   ],
   "source": [
    "from konlpy.tag import Kkma\n",
    "kkma = Kkma()\n",
    "pprint(kkma.sentences(u'네 , 안녕하세요. 반갑습니다.'))\n",
    "pprint(kkma.nouns(u'질문이나 건의사항은 깃헙 이슈 트래커에 남겨주세요'))\n",
    "pprint(kkma.pos(u'오류보고는 실행환경 , 에러메세지와함께 설명을 최대한상세히!^^'))"
   ]
  },
  {
   "cell_type": "code",
   "execution_count": 6,
   "id": "7c09d5be-9ad8-45a5-9264-3fb1a257dd53",
   "metadata": {},
   "outputs": [
    {
     "name": "stdout",
     "output_type": "stream",
     "text": [
      "['우왕', '코', '모란', '도', '오픈', '소스', '가', '되', '었', '어요']\n",
      "['오픈', '소스', '관심', '개발자']\n",
      "[('혹시', 'MAG'), ('바람과 함께 사라지다', 'NNP'), ('보', 'VV'), ('았', 'EP'), ('어', 'EF'), ('?', 'SF')]\n"
     ]
    },
    {
     "name": "stderr",
     "output_type": "stream",
     "text": [
      "java.io.FileNotFoundException: /tmp/dic.txt (No such file or directory)\n",
      "\tat java.base/java.io.FileInputStream.open0(Native Method)\n",
      "\tat java.base/java.io.FileInputStream.open(FileInputStream.java:216)\n",
      "\tat java.base/java.io.FileInputStream.<init>(FileInputStream.java:157)\n",
      "\tat java.base/java.io.FileInputStream.<init>(FileInputStream.java:111)\n",
      "\tat java.base/java.io.FileReader.<init>(FileReader.java:60)\n",
      "\tat kr.co.shineware.nlp.komoran.core.Komoran.setUserDic(Komoran.java:616)\n"
     ]
    }
   ],
   "source": [
    "from konlpy.tag import Komoran\n",
    "komoran = Komoran(userdic='/tmp/dic.txt')\n",
    "print(komoran.morphs(u'우왕 코모란도 오픈소스가 되었어요'))\n",
    "print(komoran.nouns(u'오픈소스에 관심 많은 멋진 개발자님들!'))\n",
    "print(komoran.pos(u'혹시 바람과 함께 사라지다 봤어?'))"
   ]
  },
  {
   "cell_type": "code",
   "execution_count": 7,
   "id": "4eebb763-d8cb-4561-895a-fcb71da1ee03",
   "metadata": {},
   "outputs": [
    {
     "name": "stdout",
     "output_type": "stream",
     "text": [
      "[[[('롯데마트', 'ncn'), ('의', 'jcm')], [('롯데마트의', 'ncn')], [('롯데마트', 'nqq'), ('의', 'jcm')], [('롯데마트의', 'nqq')]], [[('흑마늘', 'ncn')], [('흑마늘', 'nqq')]], [[('양념', 'ncn')]], [[('치킨', 'ncn'), ('이', 'jcc')], [('치킨', 'ncn'), ('이', 'jcs')], [('치킨', 'ncn'), ('이', 'ncn')]], [[('논란', 'ncpa'), ('이', 'jcc')], [('논란', 'ncpa'), ('이', 'jcs')], [('논란', 'ncpa'), ('이', 'ncn')]], [[('되', 'nbu'), ('고', 'jcj')], [('되', 'nbu'), ('이', 'jp'), ('고', 'ecc')], [('되', 'nbu'), ('이', 'jp'), ('고', 'ecs')], [('되', 'nbu'), ('이', 'jp'), ('고', 'ecx')], [('되', 'paa'), ('고', 'ecc')], [('되', 'paa'), ('고', 'ecs')], [('되', 'paa'), ('고', 'ecx')], [('되', 'pvg'), ('고', 'ecc')], [('되', 'pvg'), ('고', 'ecs')], [('되', 'pvg'), ('고', 'ecx')], [('되', 'px'), ('고', 'ecc')], [('되', 'px'), ('고', 'ecs')], [('되', 'px'), ('고', 'ecx')]], [[('있', 'paa'), ('다', 'ef')], [('있', 'px'), ('다', 'ef')]], [[('.', 'sf')], [('.', 'sy')]]]\n",
      "['롯데마트', '의', '흑마늘', '양념', '치킨', '이', '논란', '이', '되', '고', '있', '다', '.']\n",
      "['다람쥐', '쳇바퀴', '타고파']\n",
      "[('웃', 'P'), ('으면', 'E'), ('더', 'M'), ('행복', 'N'), ('하', 'X'), ('ㅂ니다', 'E'), ('!', 'S')]\n"
     ]
    }
   ],
   "source": [
    "from konlpy.tag import Hannanum\n",
    "hannanum = Hannanum()\n",
    "print(hannanum.analyze(u'롯데마트의 흑마늘 양념 치킨이 논란이 되고 있다.'))\n",
    "print(hannanum.morphs(u'롯데마트의 흑마늘 양념 치킨이 논란이 되고 있다.'))\n",
    "print(hannanum.nouns(u'다람쥐 헌 쳇바퀴에 타고파'))\n",
    "print(hannanum.pos(u'웃으면 더 행복합니다!'))"
   ]
  },
  {
   "cell_type": "code",
   "execution_count": 14,
   "id": "f2320805-efaa-42a7-b468-45260fe0c8e8",
   "metadata": {},
   "outputs": [
    {
     "name": "stdout",
     "output_type": "stream",
     "text": [
      "\n",
      "\n",
      "============ Okt ============\n",
      "\n",
      "<morphs>\n",
      "['4', '차', '산업혁명', '에서', '인공', '지능', '기술', '은', '매우', '중요한', '부분', '을', '차지', '하고', '있으며', ',', '인공', '지능', '과', '딥', '러닝', '기술', '을', '개발', '하기', '위', '해서는', '컴퓨터', '언어', '로', '파이썬', '뿐', '만', '아니라', 'C', '언어', '또는', '자바', '코딩', '이', '매우', '중요하다', '.']\n",
      "\n",
      "<nouns>\n",
      "['차', '산업혁명', '인공', '지능', '기술', '매우', '부분', '차지', '인공', '지능', '딥', '러닝', '기술', '개발', '위', '컴퓨터', '언어', '파이썬', '언어', '자바', '코딩', '매우']\n",
      "\n",
      "<pos>\n",
      "[('4', 'Number'), ('차', 'Noun'), ('산업혁명', 'Noun'), ('에서', 'Josa'), ('인공', 'Noun'), ('지능', 'Noun'), ('기술', 'Noun'), ('은', 'Josa'), ('매우', 'Noun'), ('중요한', 'Adjective'), ('부분', 'Noun'), ('을', 'Josa'), ('차지', 'Noun'), ('하고', 'Josa'), ('있으며', 'Adjective'), (',', 'Punctuation'), ('인공', 'Noun'), ('지능', 'Noun'), ('과', 'Josa'), ('딥', 'Noun'), ('러닝', 'Noun'), ('기술', 'Noun'), ('을', 'Josa'), ('개발', 'Noun'), ('하기', 'Verb'), ('위', 'Noun'), ('해서는', 'Verb'), ('컴퓨터', 'Noun'), ('언어', 'Noun'), ('로', 'Josa'), ('파이썬', 'Noun'), ('뿐', 'Suffix'), ('만', 'Josa'), ('아니라', 'Adjective'), ('C', 'Alpha'), ('언어', 'Noun'), ('또는', 'Adverb'), ('자바', 'Noun'), ('코딩', 'Noun'), ('이', 'Josa'), ('매우', 'Noun'), ('중요하다', 'Adjective'), ('.', 'Punctuation')]\n",
      "\n",
      "\n",
      "============ Mecab ============\n",
      "\n",
      "<morphs>\n",
      "['4', '차', '산업', '혁명', '에서', '인공지능', '기술', '은', '매우', '중요', '한', '부분', '을', '차지', '하', '고', '있', '으며', ',', '인공지능', '과', '딥', '러닝', '기술', '을', '개발', '하', '기', '위해서', '는', '컴퓨터', '언어', '로', '파이썬', '뿐', '만', '아니', '라', 'C', '언어', '또는', '자바', '코딩', '이', '매우', '중요', '하', '다', '.']\n",
      "\n",
      "<nouns>\n",
      "['차', '산업', '혁명', '인공지능', '기술', '중요', '부분', '차지', '인공지능', '딥', '러닝', '기술', '개발', '컴퓨터', '언어', '파이썬', '언어', '자바', '코딩', '중요']\n",
      "\n",
      "<pos>\n",
      "[('4', 'SN'), ('차', 'NNBC'), ('산업', 'NNG'), ('혁명', 'NNG'), ('에서', 'JKB'), ('인공지능', 'NNP'), ('기술', 'NNG'), ('은', 'JX'), ('매우', 'MAG'), ('중요', 'NNG'), ('한', 'XSA+ETM'), ('부분', 'NNG'), ('을', 'JKO'), ('차지', 'NNG'), ('하', 'XSV'), ('고', 'EC'), ('있', 'VX'), ('으며', 'EC'), (',', 'SC'), ('인공지능', 'NNP'), ('과', 'JC'), ('딥', 'NNG'), ('러닝', 'NNG'), ('기술', 'NNG'), ('을', 'JKO'), ('개발', 'NNG'), ('하', 'XSV'), ('기', 'ETN'), ('위해서', 'VV+EC'), ('는', 'JX'), ('컴퓨터', 'NNG'), ('언어', 'NNG'), ('로', 'JKB'), ('파이썬', 'NNP'), ('뿐', 'JX'), ('만', 'JX'), ('아니', 'VCN'), ('라', 'EC'), ('C', 'SL'), ('언어', 'NNG'), ('또는', 'MAJ'), ('자바', 'NNG'), ('코딩', 'NNG'), ('이', 'JKS'), ('매우', 'MAG'), ('중요', 'NNG'), ('하', 'XSV'), ('다', 'EF'), ('.', 'SF')]\n",
      "\n",
      "\n",
      "============ Mecab ============\n",
      "\n",
      "<morphs>\n",
      "['4', '차', '산업', '혁명', '에서', '인공지능', '기술', '은', '매우', '중요', '하', 'ㄴ', '부분', '을', '차지', '하', '고', '있', '으며', ',', '인공지능', '과', '딥', '러닝', '기술', '을', '개발', '하', '기', '위하', '어서', '는', '컴퓨터', '언어', '로', '파이', '썰', 'ㄴ', '뿐', '만', '아니', '라', 'C', '언어', '또는', '자', '바', '코딩', '이', '매우', '중요', '하', '다', '.']\n",
      "\n",
      "<nouns>\n",
      "['4', '4차산업혁명', '차', '산업', '혁명', '인공', '인공지능', '인공지능기술', '지능', '기술', '중요', '부분', '차지', '딥', '딥러닝', '러닝', '개발', '컴퓨터', '언어', '파이', '뿐', '자', '자바', '바', '코딩']\n",
      "\n",
      "<pos>\n",
      "[('4', 'NR'), ('차', 'NNM'), ('산업', 'NNG'), ('혁명', 'NNG'), ('에서', 'JKM'), ('인공지능', 'NNG'), ('기술', 'NNG'), ('은', 'JX'), ('매우', 'MAG'), ('중요', 'NNG'), ('하', 'XSV'), ('ㄴ', 'ETD'), ('부분', 'NNG'), ('을', 'JKO'), ('차지', 'NNG'), ('하', 'XSV'), ('고', 'ECE'), ('있', 'VXV'), ('으며', 'ECE'), (',', 'SP'), ('인공지능', 'NNG'), ('과', 'JC'), ('딥', 'NNG'), ('러닝', 'NNG'), ('기술', 'NNG'), ('을', 'JKO'), ('개발', 'NNG'), ('하', 'XSV'), ('기', 'ETN'), ('위하', 'VV'), ('어서', 'ECD'), ('는', 'JX'), ('컴퓨터', 'NNG'), ('언어', 'NNG'), ('로', 'JKM'), ('파이', 'NNG'), ('썰', 'VV'), ('ㄴ', 'ETD'), ('뿐', 'NNB'), ('만', 'JX'), ('아니', 'VCN'), ('라', 'ECD'), ('C', 'OL'), ('언어', 'NNG'), ('또는', 'MAG'), ('자', 'NNG'), ('바', 'NNG'), ('코딩', 'NNG'), ('이', 'JKS'), ('매우', 'MAG'), ('중요', 'NNG'), ('하', 'XSA'), ('다', 'EFN'), ('.', 'SF')]\n",
      "\n",
      "\n",
      "============ Komoran ============\n",
      "\n",
      "<morphs>\n",
      "['4', '차', '산업', '혁명', '에서', '인공지능', '기술', '은', '매우', '중요', '하', 'ㄴ', '부분', '을', '차지', '하', '고', '있', '으며', ',', '인공지능', '과', '딥러닝', '기술', '을', '개발', '하', '기', '위하', '아서', '는', '컴퓨터 언어', '로', '파이썬', '뿐', '만', '아니', '라', 'C', '언어', '또는', '자바', '코', '딩', '이', '매우', '중요', '하', '다', '.']\n",
      "\n",
      "<nouns>\n",
      "['차', '산업', '혁명', '인공지능', '기술', '부분', '차지', '인공지능', '기술', '개발', '컴퓨터 언어', '파이썬', '뿐', '언어', '자바', '코']\n",
      "\n",
      "<pos>\n",
      "[('4', 'SN'), ('차', 'NNB'), ('산업', 'NNP'), ('혁명', 'NNP'), ('에서', 'JKB'), ('인공지능', 'NNP'), ('기술', 'NNP'), ('은', 'JX'), ('매우', 'MAG'), ('중요', 'XR'), ('하', 'XSA'), ('ㄴ', 'ETM'), ('부분', 'NNG'), ('을', 'JKO'), ('차지', 'NNG'), ('하', 'XSV'), ('고', 'EC'), ('있', 'VV'), ('으며', 'EC'), (',', 'SP'), ('인공지능', 'NNP'), ('과', 'JC'), ('딥러닝', 'NA'), ('기술', 'NNG'), ('을', 'JKO'), ('개발', 'NNG'), ('하', 'XSV'), ('기', 'ETN'), ('위하', 'VV'), ('아서', 'EC'), ('는', 'JX'), ('컴퓨터 언어', 'NNP'), ('로', 'JKB'), ('파이썬', 'NNP'), ('뿐', 'NNB'), ('만', 'JX'), ('아니', 'VCN'), ('라', 'EC'), ('C', 'SL'), ('언어', 'NNP'), ('또는', 'MAJ'), ('자바', 'NNP'), ('코', 'NNG'), ('딩', 'MAG'), ('이', 'JKS'), ('매우', 'MAG'), ('중요', 'XR'), ('하', 'XSA'), ('다', 'EF'), ('.', 'SF')]\n",
      "\n",
      "\n",
      "============ Hannanum ============\n",
      "\n",
      "<morphs>\n",
      "['4차산업혁명', '에서', '인공지능기술', '은', '매우', '중요', '하', 'ㄴ', '부분', '을', '차', '지', '하', '고', '있', '으며', ',', '인공지능', '과', '딥러닝', '기술', '을', '개발', '하', '기', '위하', '어서', '는', '컴퓨터', '언어', '로', '파이썬뿐', '만', '아니', '라', 'C', '언어', '또는', '자바', '코딩', '이', '매우', '중요', '하', '다', '.']\n",
      "\n",
      "<nouns>\n",
      "['4차산업혁명', '인공지능기술', '중요', '부분', '인공지능', '딥러닝', '기술', '개발', '컴퓨터', '언어', '파이썬뿐', '언어', '자바', '코딩', '중요']\n",
      "\n",
      "<pos>\n",
      "[('4차산업혁명', 'N'), ('에서', 'J'), ('인공지능기술', 'N'), ('은', 'J'), ('매우', 'M'), ('중요', 'N'), ('하', 'X'), ('ㄴ', 'E'), ('부분', 'N'), ('을', 'J'), ('차', 'P'), ('지', 'E'), ('하', 'P'), ('고', 'E'), ('있', 'P'), ('으며', 'E'), (',', 'S'), ('인공지능', 'N'), ('과', 'J'), ('딥러닝', 'N'), ('기술', 'N'), ('을', 'J'), ('개발', 'N'), ('하', 'X'), ('기', 'E'), ('위하', 'P'), ('어서', 'E'), ('는', 'J'), ('컴퓨터', 'N'), ('언어', 'N'), ('로', 'J'), ('파이썬뿐', 'N'), ('만', 'J'), ('아니', 'P'), ('라', 'E'), ('C', 'F'), ('언어', 'N'), ('또는', 'M'), ('자바', 'N'), ('코딩', 'N'), ('이', 'J'), ('매우', 'M'), ('중요', 'N'), ('하', 'X'), ('다', 'E'), ('.', 'S')]\n"
     ]
    }
   ],
   "source": [
    "ko_sentence = \"4차산업혁명에서 인공지능기술은 매우 중요한 부분을 차지하고 있으며, 인공지능과 딥러닝 기술을 개발하기 위해서는 컴퓨터 언어로 파이썬뿐만 아니라 C언어 또는 자바 코딩이 매우 중요하다.\"\n",
    "\n",
    "# Okt\n",
    "print(\"\\n\\n============ Okt ============\")\n",
    "print(\"\\n<morphs>\")\n",
    "print(okt.morphs(ko_sentence))\n",
    "print(\"\\n<nouns>\")\n",
    "print(okt.nouns(ko_sentence))\n",
    "print(\"\\n<pos>\")\n",
    "print(okt.pos(ko_sentence))\n",
    "\n",
    "# Mecab\n",
    "print(\"\\n\\n============ Mecab ============\")\n",
    "print(\"\\n<morphs>\")\n",
    "print(mecab.morphs(ko_sentence))\n",
    "print(\"\\n<nouns>\")\n",
    "print(mecab.nouns(ko_sentence))\n",
    "print(\"\\n<pos>\")\n",
    "print(mecab.pos(ko_sentence))\n",
    "\n",
    "# Kkma\n",
    "print(\"\\n\\n============ Mecab ============\")\n",
    "print(\"\\n<morphs>\")\n",
    "print(kkma.morphs(ko_sentence))\n",
    "print(\"\\n<nouns>\")\n",
    "print(kkma.nouns(ko_sentence))\n",
    "print(\"\\n<pos>\")\n",
    "print(kkma.pos(ko_sentence))\n",
    "\n",
    "# Komoran\n",
    "print(\"\\n\\n============ Komoran ============\")\n",
    "print(\"\\n<morphs>\")\n",
    "print(komoran.morphs(ko_sentence))\n",
    "print(\"\\n<nouns>\")\n",
    "print(komoran.nouns(ko_sentence))\n",
    "print(\"\\n<pos>\")\n",
    "print(komoran.pos(ko_sentence))\n",
    "\n",
    "# Hannanum\n",
    "print(\"\\n\\n============ Hannanum ============\")\n",
    "print(\"\\n<morphs>\")\n",
    "print(hannanum.morphs(ko_sentence))\n",
    "print(\"\\n<nouns>\")\n",
    "print(hannanum.nouns(ko_sentence))\n",
    "print(\"\\n<pos>\")\n",
    "print(hannanum.pos(ko_sentence))"
   ]
  },
  {
   "cell_type": "code",
   "execution_count": null,
   "id": "a74a22e6-7aef-43a2-b589-9be5b7fecb07",
   "metadata": {},
   "outputs": [],
   "source": []
  }
 ],
 "metadata": {
  "kernelspec": {
   "display_name": "Python 3 (ipykernel)",
   "language": "python",
   "name": "python3"
  },
  "language_info": {
   "codemirror_mode": {
    "name": "ipython",
    "version": 3
   },
   "file_extension": ".py",
   "mimetype": "text/x-python",
   "name": "python",
   "nbconvert_exporter": "python",
   "pygments_lexer": "ipython3",
   "version": "3.8.1"
  }
 },
 "nbformat": 4,
 "nbformat_minor": 5
}
