{
  "nbformat": 4,
  "nbformat_minor": 0,
  "metadata": {
    "colab": {
      "name": "[특수대학원] 인공지능수학 선형대수 (03주차 과제)의 사본",
      "provenance": [],
      "collapsed_sections": []
    },
    "kernelspec": {
      "name": "python3",
      "display_name": "Python 3"
    }
  },
  "cells": [
    {
      "cell_type": "markdown",
      "metadata": {
        "id": "Fn6NoDwPmhNs"
      },
      "source": [
        "# 과제 목표\n",
        "\n",
        "파이썬 numpy, scipy 패키지를 이용해 주어진 행렬에 대한 LU 분해를 구하는 코드를 작성합니다.\n",
        "\n",
        "참고자료: [링크](https://docs.scipy.org/doc/scipy/reference/generated/scipy.linalg.lu.html)"
      ]
    },
    {
      "cell_type": "markdown",
      "metadata": {
        "id": "T-kzn78qsK1W"
      },
      "source": [
        "## 행렬 $A$ 정의\r\n",
        "\r\n",
        "다음의 3x3 행렬 $A$를 정의하는 numpy 코드를 작성하시오.\r\n",
        "\r\n",
        "$$ A = \r\n",
        "\\left[\r\n",
        "\\begin{array}{rrr}\r\n",
        " 3 &  1 &  1 \\\\\r\n",
        " 1 & -2 & -1 \\\\\r\n",
        " 1 &  1 &  1\r\n",
        "\\end{array}\r\n",
        "\\right]\r\n",
        "$$"
      ]
    },
    {
      "cell_type": "code",
      "metadata": {
        "id": "kvcJK1GfTqxA"
      },
      "source": [
        "import numpy as np\r\n",
        "import scipy.linalg "
      ],
      "execution_count": 1,
      "outputs": []
    },
    {
      "cell_type": "code",
      "metadata": {
        "id": "SqWHFBWsT3K7",
        "colab": {
          "base_uri": "https://localhost:8080/"
        },
        "outputId": "09ccf098-f0c4-4fda-efc1-10a079b6c33a"
      },
      "source": [
        "# 행렬 코딩\n",
        "\n",
        "## TODO\n",
        "A = np.array([[3, 1, 1], [1, -2, -1], [1, 1, 1]])\n",
        "\n",
        "print(A)\n",
        "print(np.shape(A))"
      ],
      "execution_count": 2,
      "outputs": [
        {
          "output_type": "stream",
          "text": [
            "[[ 3  1  1]\n",
            " [ 1 -2 -1]\n",
            " [ 1  1  1]]\n",
            "(3, 3)\n"
          ],
          "name": "stdout"
        }
      ]
    },
    {
      "cell_type": "markdown",
      "metadata": {
        "id": "BZKBCNvtugaz"
      },
      "source": [
        "## 행렬 $A$의 LU 분해 계산\r\n",
        "앞서 정의한 행렬 $A$에 대해 LU 분해, $A = PLU$를 수행하는 scipy 코드를 작성하시오."
      ]
    },
    {
      "cell_type": "code",
      "metadata": {
        "colab": {
          "base_uri": "https://localhost:8080/"
        },
        "id": "YFVDrsxxh6gc",
        "outputId": "119abc95-fc2b-450a-cb50-82f78d5ad088"
      },
      "source": [
        "# PLU 분해\n",
        "\n",
        "## TODO\n",
        "P, L, U = scipy.linalg.lu(A)\n",
        "\n",
        "# P가 항등행렬(Identity matrix)일 경우 Interchange 이력이 존재하지 않음.\n",
        "\n",
        "print(\"P:\", P)\n",
        "print(\"L:\", L)\n",
        "print(\"U:\", U)\n",
        "\n",
        "AA = P @ L @ U\n",
        "print(\"AA:\", AA)"
      ],
      "execution_count": 4,
      "outputs": [
        {
          "output_type": "stream",
          "text": [
            "P: [[1. 0. 0.]\n",
            " [0. 1. 0.]\n",
            " [0. 0. 1.]]\n",
            "L: [[ 1.          0.          0.        ]\n",
            " [ 0.33333333  1.          0.        ]\n",
            " [ 0.33333333 -0.28571429  1.        ]]\n",
            "U: [[ 3.          1.          1.        ]\n",
            " [ 0.         -2.33333333 -1.33333333]\n",
            " [ 0.          0.          0.28571429]]\n",
            "AA: [[ 3.  1.  1.]\n",
            " [ 1. -2. -1.]\n",
            " [ 1.  1.  1.]]\n"
          ],
          "name": "stdout"
        }
      ]
    },
    {
      "cell_type": "markdown",
      "metadata": {
        "id": "H6EsN_0ovDrW"
      },
      "source": [
        "## 벡터 정의\r\n",
        "다음의 3-벡터 $\\mathbf{b}$를 정의하는 numpy 코드를 작성하시오.\r\n",
        "$$ \\mathbf{b} = \r\n",
        "\\left[\r\n",
        "\\begin{array}{rrr}\r\n",
        " 4 \\\\\r\n",
        " 1 \\\\\r\n",
        " 2\r\n",
        "\\end{array}\r\n",
        "\\right]\r\n",
        "$$"
      ]
    },
    {
      "cell_type": "code",
      "metadata": {
        "colab": {
          "base_uri": "https://localhost:8080/"
        },
        "id": "vE5nVm9uiAC_",
        "outputId": "636c7715-0d8c-4469-d11c-41ec09c8385c"
      },
      "source": [
        "# 벡터 코딩\n",
        "\n",
        "## TODO\n",
        "b = np.array([4, 1, 2])\n",
        "\n",
        "print(b)\n",
        "print(np.shape(b))"
      ],
      "execution_count": 5,
      "outputs": [
        {
          "output_type": "stream",
          "text": [
            "[4 1 2]\n",
            "(3,)\n"
          ],
          "name": "stdout"
        }
      ]
    },
    {
      "cell_type": "markdown",
      "metadata": {
        "id": "5LyhlkgdvgB5"
      },
      "source": [
        "## LU-분해를 이용해 선형시스템 $A \\mathbf{x} = \\mathbf{b}$ 풀기\r\n",
        "행렬 $A$에 대한 LU 분해를 이용해 $A\\mathbf{x} = \\mathbf{b}$를 계산하는 scipy 코드를 작성하시오."
      ]
    },
    {
      "cell_type": "code",
      "metadata": {
        "colab": {
          "base_uri": "https://localhost:8080/"
        },
        "id": "BcrQWuJ3iaFr",
        "outputId": "72a0b166-7ebd-4ce9-9fee-5e948a538b7c"
      },
      "source": [
        "# LU 분해\n",
        "\n",
        "## TODO\n",
        "lu, piv = scipy.linalg.lu_factor(A)\n",
        "print(lu, piv)  # lu : LU, piv : P\n",
        "x = scipy.linalg.lu_solve((lu, piv), b)\n",
        "\n",
        "print(\"x:\", x)\n",
        "print(np.shape(x))"
      ],
      "execution_count": 8,
      "outputs": [
        {
          "output_type": "stream",
          "text": [
            "[[ 3.          1.          1.        ]\n",
            " [ 0.33333333 -2.33333333 -1.33333333]\n",
            " [ 0.33333333 -0.28571429  0.28571429]] [0 1 2]\n",
            "x: [ 1. -1.  2.]\n",
            "(3,)\n"
          ],
          "name": "stdout"
        }
      ]
    },
    {
      "cell_type": "markdown",
      "metadata": {
        "id": "BH1Um2IG--OK"
      },
      "source": [
        "## 선형시스템의 해 확인\r\n",
        "\r\n",
        "앞서 LU 분해를 이용해 구한 $\\mathbf{x}$가 선형시스템 $A\\mathbf{x} = \\mathbf{b}$의 해(solution)로서 알맞게 구한 것인지 검증하는 코드를 작성하시오.\r\n",
        "\r\n",
        "방법: $A\\mathbf{x}$의 연산결과가 $\\mathbf{b}$와 충분히 가까운지를 검증한다. [참고자료: [링크](https://numpy.org/doc/stable/reference/generated/numpy.allclose.html)]"
      ]
    },
    {
      "cell_type": "code",
      "metadata": {
        "id": "zEavm3BznPMC",
        "colab": {
          "base_uri": "https://localhost:8080/"
        },
        "outputId": "1e07bcc4-49d8-4393-d449-09bae472ebe3"
      },
      "source": [
        "## 결과 검증\r\n",
        "\r\n",
        "# TODO\r\n",
        "bb = A @ x\r\n",
        "\r\n",
        "if np.allclose(b, bb):\r\n",
        "  print(\"Ok\")\r\n",
        "else:\r\n",
        "  print(\"something wrong\")"
      ],
      "execution_count": 9,
      "outputs": [
        {
          "output_type": "stream",
          "text": [
            "Ok\n"
          ],
          "name": "stdout"
        }
      ]
    }
  ]
}