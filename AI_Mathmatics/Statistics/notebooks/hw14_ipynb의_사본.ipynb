{
  "nbformat": 4,
  "nbformat_minor": 0,
  "metadata": {
    "colab": {
      "name": "hw14.ipynb의 사본",
      "provenance": [],
      "collapsed_sections": []
    },
    "kernelspec": {
      "name": "python3",
      "display_name": "Python 3"
    },
    "language_info": {
      "name": "python"
    }
  },
  "cells": [
    {
      "cell_type": "markdown",
      "metadata": {
        "id": "X4f0mNv7l5Z9"
      },
      "source": [
        "# 인공지능수학: 통계학\n",
        "# 숙제 14 (HW 14)\n"
      ]
    },
    {
      "cell_type": "markdown",
      "metadata": {
        "id": "bnNLmwKkg-w0"
      },
      "source": [
        "이름: (홍성규)\n",
        "\n",
        "학번: (K2021035)\n"
      ]
    },
    {
      "cell_type": "markdown",
      "metadata": {
        "id": "pbLlVl0m64P4"
      },
      "source": [
        "1. 어떤 확률 변수에 대한 확률분포가 아래 변수 $P$와 같이 주어져 있다. 이 확률분포의 엔트로피 (entropy)를 비트로 계산하시오."
      ]
    },
    {
      "cell_type": "code",
      "metadata": {
        "id": "Y0dOGSvTAg5X"
      },
      "source": [
        "P=[0.25, 0.1, 0.25, 0.1, 0.18, 0.12]"
      ],
      "execution_count": 9,
      "outputs": []
    },
    {
      "cell_type": "code",
      "metadata": {
        "id": "LeyS0lIozCKz"
      },
      "source": [
        "import numpy as np\n"
      ],
      "execution_count": 11,
      "outputs": []
    },
    {
      "cell_type": "code",
      "metadata": {
        "id": "Pupy6Hq1AWxy",
        "colab": {
          "base_uri": "https://localhost:8080/"
        },
        "outputId": "7f9ff101-9eb0-4d00-d923-827743a051e8"
      },
      "source": [
        "# 여기에 코드를 작성하시오\n",
        "i = [-np.log2(p) for p in P]\n",
        "mul = [i[idx] * P[idx] for idx in range(len(i))]\n",
        "entropy = sum(mul)\n",
        "print(entropy)"
      ],
      "execution_count": 21,
      "outputs": [
        {
          "output_type": "stream",
          "text": [
            "2.174668276565414\n"
          ],
          "name": "stdout"
        }
      ]
    },
    {
      "cell_type": "markdown",
      "metadata": {
        "id": "Os5wg8TcAYyf"
      },
      "source": [
        "(2.174668276565414 bit)"
      ]
    },
    {
      "cell_type": "markdown",
      "metadata": {
        "id": "HfFE8w4IoKu1"
      },
      "source": [
        "2. 아래는 2개의 확률 분포를 각각 변수 $P$와 $Q$에 저장하였다. 확률분포 $P$에 대한 확률분포 $Q$의 교차 엔트로피를 계산하시오."
      ]
    },
    {
      "cell_type": "code",
      "metadata": {
        "id": "B-ViEs2k6BIR"
      },
      "source": [
        "P=[0.35, 0.25, 0.1, 0.18, 0.12]\n",
        "Q=[0.32, 0.23, 0.11, 0.20, 0.14]"
      ],
      "execution_count": 13,
      "outputs": []
    },
    {
      "cell_type": "code",
      "metadata": {
        "id": "v7ML_4xX6iiQ",
        "colab": {
          "base_uri": "https://localhost:8080/"
        },
        "outputId": "c06ade15-ea0f-4bd6-fa40-19cfcf4456db"
      },
      "source": [
        "# 여기에 코드를 작성하시오\n",
        "def cross_entropy(P, Q):\n",
        "    return sum([-P[i] * np.log2(Q[i]) for i in range(len(P))])\n",
        "\n",
        "print(cross_entropy(P, Q))"
      ],
      "execution_count": 14,
      "outputs": [
        {
          "output_type": "stream",
          "text": [
            "2.182192891170104\n"
          ],
          "name": "stdout"
        }
      ]
    },
    {
      "cell_type": "markdown",
      "metadata": {
        "id": "WXh5F0qe6lCw"
      },
      "source": [
        "(2.182192891170104)"
      ]
    }
  ]
}