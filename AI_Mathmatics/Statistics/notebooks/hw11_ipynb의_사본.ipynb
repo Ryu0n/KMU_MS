{
  "nbformat": 4,
  "nbformat_minor": 0,
  "metadata": {
    "colab": {
      "name": "hw11.ipynb의 사본",
      "provenance": [],
      "collapsed_sections": []
    },
    "kernelspec": {
      "name": "python3",
      "display_name": "Python 3"
    },
    "language_info": {
      "name": "python"
    }
  },
  "cells": [
    {
      "cell_type": "markdown",
      "metadata": {
        "id": "X4f0mNv7l5Z9"
      },
      "source": [
        "# 인공지능수학: 통계학\n",
        "# 숙제 11 (HW 11)\n",
        "\n",
        "아래 문제를 풀어서 제출하시오."
      ]
    },
    {
      "cell_type": "code",
      "metadata": {
        "id": "KseLEjNxZVCP"
      },
      "source": [
        "import math\n",
        "from scipy import stats"
      ],
      "execution_count": 3,
      "outputs": []
    },
    {
      "cell_type": "markdown",
      "metadata": {
        "id": "HfFE8w4IoKu1"
      },
      "source": [
        "1. 어느 큰 항공회사는 국내선의 경우 자기 회사 항공권을 예약한 승객 중 10% 정도가 도중에 예약을 취소한다는 사실을 과거의 경험으로 알았다. 어느 특정한 날의 항공권을 예약한 승객이 1,000명이라면 이중 몇 명 정도가 도중에 예약을 취소한다고 기대되는가? 예약을 취소하는 승객 수의 표준편차는 얼마인가? \n",
        "이 문제에 대한 답을 구하는 python 코드를 작성하시오. \n"
      ]
    },
    {
      "cell_type": "code",
      "metadata": {
        "id": "UE3mT30z3NFI",
        "colab": {
          "base_uri": "https://localhost:8080/"
        },
        "outputId": "4bdcc5be-b965-492a-a28b-06681382cb59"
      },
      "source": [
        "mean_binom, var_binom = stats.binom.stats(n=1000, p=0.1)\n",
        "print(f'기대되는 예약 취소 인원 : {mean_binom}')\n",
        "print(f'표준편차 : {math.sqrt(var_binom)}')"
      ],
      "execution_count": 4,
      "outputs": [
        {
          "output_type": "stream",
          "text": [
            "기대되는 예약 취소 인원 : 100.0\n",
            "표준편차 : 9.486832980505138\n"
          ],
          "name": "stdout"
        }
      ]
    },
    {
      "cell_type": "markdown",
      "metadata": {
        "id": "Ky11qBaq3NuX"
      },
      "source": [
        "2. 평균이 20이고, 표준편차가 5인 정규 분포에서 다음 각 확률을 구하는 python 코드를 작성하시오. \n",
        " * $P[X \\ge 30]$\n",
        " * $P[X < 15]$\n",
        " * $P[10 <X < 25]$\n"
      ]
    },
    {
      "cell_type": "code",
      "metadata": {
        "id": "dA3GyQif3it_",
        "colab": {
          "base_uri": "https://localhost:8080/"
        },
        "outputId": "2a3cd259-f514-4c1f-f2f0-35cc781804ae"
      },
      "source": [
        "m, s = 20, 5\n",
        "\n",
        "# 𝑃[𝑋≥30]\n",
        "x_30 = stats.norm.cdf(30, loc=m, scale=s)\n",
        "p = 1 - x_30\n",
        "print(p)\n",
        "\n",
        "# 𝑃[𝑋<15]\n",
        "x_15 = stats.norm.cdf(15, loc=m, scale=s)\n",
        "p = x_15\n",
        "print(p)\n",
        "\n",
        "# 𝑃[10<𝑋<25]\n",
        "x_25 = stats.norm.cdf(25, loc=m, scale=s)\n",
        "x_10 = stats.norm.cdf(10, loc=m, scale=s)\n",
        "p = x_25 - x_10\n",
        "print(p)"
      ],
      "execution_count": 5,
      "outputs": [
        {
          "output_type": "stream",
          "text": [
            "0.02275013194817921\n",
            "0.15865525393145707\n",
            "0.8185946141203637\n"
          ],
          "name": "stdout"
        }
      ]
    },
    {
      "cell_type": "markdown",
      "metadata": {
        "id": "M8ngTq3e3jKn"
      },
      "source": [
        "3. 어느 편의점에 시간당 방문자 수는 평균이 10 ($\\lambda = 10$)인 포아송 분포를 따른다고 한다. 다음 각 확률을 구하는 python 코드를 작성하시오. \n",
        " * $P[X\\le 5]$\n",
        " * $P[7 \\le X < 14]$\n",
        " * $P[X \\ge 9]$"
      ]
    },
    {
      "cell_type": "code",
      "metadata": {
        "id": "og-BmTvm4Ny5",
        "colab": {
          "base_uri": "https://localhost:8080/"
        },
        "outputId": "7546f824-6a15-4872-a9b2-4ab1d748e099"
      },
      "source": [
        "lam = 10\n",
        "\n",
        "# 𝑃[𝑋≤5]\n",
        "x_5 = stats.poisson.cdf(5, mu=lam)\n",
        "p = x_5\n",
        "print(p)\n",
        "\n",
        "x_7 = stats.poisson.cdf(7, mu=lam)\n",
        "x_14 = stats.poisson.cdf(14, mu=lam)\n",
        "p = x_14 - x_7\n",
        "print(p)\n",
        "\n",
        "x_9 = stats.poisson.cdf(9, mu=lam)\n",
        "p = 1 - x_9\n",
        "print(p)"
      ],
      "execution_count": 6,
      "outputs": [
        {
          "output_type": "stream",
          "text": [
            "0.06708596287903189\n",
            "0.6963208804636382\n",
            "0.5420702855281476\n"
          ],
          "name": "stdout"
        }
      ]
    },
    {
      "cell_type": "markdown",
      "metadata": {
        "id": "HmcUQn1I4QzX"
      },
      "source": [
        "4. 위 3. 번 문제에서 첫번째 접속자가 10분 이내에 올 확률을 계산하는 python 코드를 작성하시오."
      ]
    },
    {
      "cell_type": "code",
      "metadata": {
        "id": "T2p2d5V74bIg",
        "colab": {
          "base_uri": "https://localhost:8080/"
        },
        "outputId": "6a44f500-1c3a-451d-d293-222afa39f4ee"
      },
      "source": [
        "p = stats.expon.cdf(1/6, scale=1/lam)\n",
        "print(p)"
      ],
      "execution_count": 8,
      "outputs": [
        {
          "output_type": "stream",
          "text": [
            "0.8111243971624381\n"
          ],
          "name": "stdout"
        }
      ]
    }
  ]
}