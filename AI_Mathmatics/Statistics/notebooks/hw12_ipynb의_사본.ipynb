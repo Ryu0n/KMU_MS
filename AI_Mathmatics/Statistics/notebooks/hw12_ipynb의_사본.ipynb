{
  "nbformat": 4,
  "nbformat_minor": 0,
  "metadata": {
    "colab": {
      "name": "hw12.ipynb의 사본",
      "provenance": [],
      "collapsed_sections": []
    },
    "kernelspec": {
      "name": "python3",
      "display_name": "Python 3"
    },
    "language_info": {
      "name": "python"
    }
  },
  "cells": [
    {
      "cell_type": "markdown",
      "metadata": {
        "id": "X4f0mNv7l5Z9"
      },
      "source": [
        "# 인공지능수학: 통계학\n",
        "# 숙제 12 (HW 12)\n"
      ]
    },
    {
      "cell_type": "markdown",
      "metadata": {
        "id": "bnNLmwKkg-w0"
      },
      "source": [
        "이름: (홍성규)\n",
        "\n",
        "학번: (K2021035)"
      ]
    },
    {
      "cell_type": "markdown",
      "metadata": {
        "id": "HfFE8w4IoKu1"
      },
      "source": [
        "1. 다음과 같은 작업을 하는 python3 코드를 작성하시오. \n",
        " *  평균이 5인 ($\\lambda=1/5$) 인 지수분포 (Exponential Distribution)를 따르는 random number를 7개 생성하여 평균을 계산하는데, 이 과정을 20,000 번 시행하여 계산된 20,000개의 평균들에 대해 전체 $[0, 15]$인 구간을 0.2단위로 구분하여 히스토그램을 그린다.\n"
      ]
    },
    {
      "cell_type": "code",
      "metadata": {
        "id": "UE3mT30z3NFI"
      },
      "source": [
        "import numpy as np\n",
        "import matplotlib as plt"
      ],
      "execution_count": null,
      "outputs": []
    },
    {
      "cell_type": "code",
      "metadata": {
        "colab": {
          "base_uri": "https://localhost:8080/",
          "height": 529
        },
        "id": "cwHQIIbkLPOx",
        "outputId": "b98e8edb-6322-4214-91be-d52b86fbda71"
      },
      "source": [
        "trial, lam, n = 20000, 1/5, 7\n",
        "s, e = 0, 15\n",
        "bins = int((e-s)/0.2)\n",
        "\n",
        "l = [np.mean(np.random.exponential(scale=1/lam, size=n)) for i in range(trial)]\n",
        "plt.pyplot.hist(x=l, bins=bins, range=(s, e))"
      ],
      "execution_count": null,
      "outputs": [
        {
          "output_type": "execute_result",
          "data": {
            "text/plain": [
              "(array([  0.,   1.,   0.,   2.,  13.,  18.,  40.,  83., 133., 197., 293.,\n",
              "        370., 420., 494., 576., 677., 713., 836., 848., 913., 871., 849.,\n",
              "        903., 829., 828., 775., 810., 763., 695., 617., 562., 547., 474.,\n",
              "        471., 400., 380., 310., 326., 309., 231., 193., 188., 135., 132.,\n",
              "        115., 100.,  82.,  92.,  82.,  48.,  40.,  29.,  34.,  24.,  23.,\n",
              "         22.,  11.,   5.,  14.,  10.,  10.,   7.,   7.,   4.,   2.,   5.,\n",
              "          1.,   2.,   3.,   0.,   0.,   0.,   0.,   1.,   0.]),\n",
              " array([ 0. ,  0.2,  0.4,  0.6,  0.8,  1. ,  1.2,  1.4,  1.6,  1.8,  2. ,\n",
              "         2.2,  2.4,  2.6,  2.8,  3. ,  3.2,  3.4,  3.6,  3.8,  4. ,  4.2,\n",
              "         4.4,  4.6,  4.8,  5. ,  5.2,  5.4,  5.6,  5.8,  6. ,  6.2,  6.4,\n",
              "         6.6,  6.8,  7. ,  7.2,  7.4,  7.6,  7.8,  8. ,  8.2,  8.4,  8.6,\n",
              "         8.8,  9. ,  9.2,  9.4,  9.6,  9.8, 10. , 10.2, 10.4, 10.6, 10.8,\n",
              "        11. , 11.2, 11.4, 11.6, 11.8, 12. , 12.2, 12.4, 12.6, 12.8, 13. ,\n",
              "        13.2, 13.4, 13.6, 13.8, 14. , 14.2, 14.4, 14.6, 14.8, 15. ]),\n",
              " <a list of 75 Patch objects>)"
            ]
          },
          "metadata": {
            "tags": []
          },
          "execution_count": 4
        },
        {
          "output_type": "display_data",
          "data": {
            "image/png": "[encoded data removed]",
            "text/plain": [
              "<Figure size 432x288 with 1 Axes>"
            ]
          },
          "metadata": {
            "tags": [],
            "needs_background": "light"
          }
        }
      ]
    }
  ]
}