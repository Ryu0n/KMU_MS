{
  "nbformat": 4,
  "nbformat_minor": 0,
  "metadata": {
    "colab": {
      "name": "[특수대학원] 인공지능수학 선형대수 (04주차 과제)의 사본",
      "provenance": [],
      "collapsed_sections": []
    },
    "kernelspec": {
      "name": "python3",
      "display_name": "Python 3"
    }
  },
  "cells": [
    {
      "cell_type": "markdown",
      "metadata": {
        "id": "Fn6NoDwPmhNs"
      },
      "source": [
        "# 과제 목표\n",
        "\n",
        "파이썬 numpy 패키지를 이용해 스칼라, 벡터, 행렬, 텐서 간의 변환을 수행하는 코드를 작성합니다.\n",
        "\n",
        "참고자료: [링크](https://numpy.org/doc/stable/reference/generated/numpy.reshape.html)"
      ]
    },
    {
      "cell_type": "code",
      "metadata": {
        "id": "kvcJK1GfTqxA"
      },
      "source": [
        "import numpy as np"
      ],
      "execution_count": 1,
      "outputs": []
    },
    {
      "cell_type": "markdown",
      "metadata": {
        "id": "YT7lLpnEH6ec"
      },
      "source": [
        "##스칼라\r\n",
        "\r\n",
        "스칼라 $s$의 초기값을 3으로 정의하는 numpy 코드를 작성하시오."
      ]
    },
    {
      "cell_type": "code",
      "metadata": {
        "colab": {
          "base_uri": "https://localhost:8080/"
        },
        "id": "hzykFn8FH9yL",
        "outputId": "768b2ab5-4ea9-4172-dad8-8d33fd360d0e"
      },
      "source": [
        "# TODO\n",
        "s = np.array(3)\n",
        "\n",
        "print(\"s:\", s)\n",
        "print(np.shape(s))"
      ],
      "execution_count": 2,
      "outputs": [
        {
          "output_type": "stream",
          "text": [
            "s: 3\n",
            "()\n"
          ],
          "name": "stdout"
        }
      ]
    },
    {
      "cell_type": "markdown",
      "metadata": {
        "id": "1Q8Jf6iWIXCD"
      },
      "source": [
        "### 스칼라 -> 벡터\r\n",
        "\r\n",
        "스칼라 $s$를 1-벡터 $\\mathbf{v}$로 변환하는 numpy 코드를 작성하시오."
      ]
    },
    {
      "cell_type": "code",
      "metadata": {
        "colab": {
          "base_uri": "https://localhost:8080/"
        },
        "id": "MujrmSLgIJ7p",
        "outputId": "520a9824-e4ff-4350-b301-51ef577258dd"
      },
      "source": [
        "# TODO\n",
        "v = np.reshape(s, (1,))\n",
        "\n",
        "print(\"v:\", v)\n",
        "print(np.shape(v))"
      ],
      "execution_count": 3,
      "outputs": [
        {
          "output_type": "stream",
          "text": [
            "v: [3]\n",
            "(1,)\n"
          ],
          "name": "stdout"
        }
      ]
    },
    {
      "cell_type": "markdown",
      "metadata": {
        "id": "Q2N37p6NOWqX"
      },
      "source": [
        "### 스칼라 -> 행렬\r\n",
        "\r\n",
        "스칼라 $s$를 1x1 행렬 $\\mathbf{A}$로 변환하는 numpy 코드를 작성하시오."
      ]
    },
    {
      "cell_type": "code",
      "metadata": {
        "colab": {
          "base_uri": "https://localhost:8080/"
        },
        "id": "vU0qN-cUOgEG",
        "outputId": "9aaa7442-14ae-4840-a470-d18071e79369"
      },
      "source": [
        "# TODO\n",
        "A = np.reshape(v, (1, 1))\n",
        "\n",
        "print(\"A:\", A)\n",
        "print(np.shape(A))"
      ],
      "execution_count": 4,
      "outputs": [
        {
          "output_type": "stream",
          "text": [
            "A: [[3]]\n",
            "(1, 1)\n"
          ],
          "name": "stdout"
        }
      ]
    },
    {
      "cell_type": "markdown",
      "metadata": {
        "id": "PExZuXDOOtei"
      },
      "source": [
        "### 스칼라 -> 3-텐서\r\n",
        "\r\n",
        "스칼라 $s$를 1x1x1 텐서 $\\mathbf{T}$로 변환하는 numpy 코드를 작성하시오."
      ]
    },
    {
      "cell_type": "code",
      "metadata": {
        "colab": {
          "base_uri": "https://localhost:8080/"
        },
        "id": "X6F13LvFOjQz",
        "outputId": "72e7249c-e78f-4838-bfe4-2ede7593a77c"
      },
      "source": [
        "# TODO\n",
        "T = np.reshape(s, (1, 1, 1))\n",
        "\n",
        "print(\"T:\", T)\n",
        "print(np.shape(T))"
      ],
      "execution_count": 5,
      "outputs": [
        {
          "output_type": "stream",
          "text": [
            "T: [[[3]]]\n",
            "(1, 1, 1)\n"
          ],
          "name": "stdout"
        }
      ]
    },
    {
      "cell_type": "markdown",
      "metadata": {
        "id": "GOvOE92EFTZy"
      },
      "source": [
        "## 벡터\r\n",
        "\r\n",
        "다음과 같은 초기값을 가지는 24-벡터 $\\mathbf{v}$를 정의하는 numpy 코드를 작성하시오.\r\n",
        "\r\n",
        "$$\r\n",
        "\\mathbf{v} = \r\n",
        "\\left[\r\n",
        "\\begin{array}{rrrrr}\r\n",
        " 1 &  2 &  \\cdots \\ 23 & 24\r\n",
        "\\end{array}\r\n",
        "\\right]\r\n",
        "$$"
      ]
    },
    {
      "cell_type": "code",
      "metadata": {
        "id": "SqWHFBWsT3K7",
        "colab": {
          "base_uri": "https://localhost:8080/"
        },
        "outputId": "291e9e23-327f-407b-d6e9-a0e9d7bfff04"
      },
      "source": [
        "# 24-벡터\n",
        "# TODO\n",
        "v = np.array([i+1 for i in range(24)])\n",
        "\n",
        "print(\"v:\", v)\n",
        "print(np.shape(v))"
      ],
      "execution_count": 7,
      "outputs": [
        {
          "output_type": "stream",
          "text": [
            "v: [ 1  2  3  4  5  6  7  8  9 10 11 12 13 14 15 16 17 18 19 20 21 22 23 24]\n",
            "(24,)\n"
          ],
          "name": "stdout"
        }
      ]
    },
    {
      "cell_type": "markdown",
      "metadata": {
        "id": "Qx_Um_GH55rF"
      },
      "source": [
        "### 벡터 -> 행렬\r\n",
        "\r\n",
        "24-벡터 $\\mathbf{v}$를 각각 1x24 행렬, 3x8 행렬, 6x4 행렬, 24x1 행렬 $\\mathbf{A}$로 변환하는 numpy 코드를 작성하시오."
      ]
    },
    {
      "cell_type": "code",
      "metadata": {
        "colab": {
          "base_uri": "https://localhost:8080/"
        },
        "id": "YYNV8UN-puA2",
        "outputId": "5c142ee4-bc5e-4a91-c1d1-eac906863387"
      },
      "source": [
        "# 24-벡터 --> (1x24) 행렬\n",
        "# TODO\n",
        "A = np.reshape(v, (1, 24))\n",
        "\n",
        "print(\"A:\", A)\n",
        "print(\"A:\", np.shape(A))"
      ],
      "execution_count": 8,
      "outputs": [
        {
          "output_type": "stream",
          "text": [
            "A: [[ 1  2  3  4  5  6  7  8  9 10 11 12 13 14 15 16 17 18 19 20 21 22 23 24]]\n",
            "A: (1, 24)\n"
          ],
          "name": "stdout"
        }
      ]
    },
    {
      "cell_type": "code",
      "metadata": {
        "colab": {
          "base_uri": "https://localhost:8080/"
        },
        "id": "YFVDrsxxh6gc",
        "outputId": "ff392cbc-973b-4d0f-e12e-5fd98bbed511"
      },
      "source": [
        "# 24-벡터 --> (3x8) 행렬\n",
        "# TODO\n",
        "A = np.reshape(v, (3, 8))\n",
        "\n",
        "print(\"A:\", A)\n",
        "print(\"A:\", np.shape(A))"
      ],
      "execution_count": 9,
      "outputs": [
        {
          "output_type": "stream",
          "text": [
            "A: [[ 1  2  3  4  5  6  7  8]\n",
            " [ 9 10 11 12 13 14 15 16]\n",
            " [17 18 19 20 21 22 23 24]]\n",
            "A: (3, 8)\n"
          ],
          "name": "stdout"
        }
      ]
    },
    {
      "cell_type": "code",
      "metadata": {
        "colab": {
          "base_uri": "https://localhost:8080/"
        },
        "id": "Pjvr8_nmGB61",
        "outputId": "b54344b6-c5dd-478d-f296-6020961e29f9"
      },
      "source": [
        "# 24-벡터 --> (6x4) 행렬\n",
        "# TODO\n",
        "A = np.reshape(v, (6, 4))\n",
        "\n",
        "print(\"A:\", A)\n",
        "print(\"A:\", np.shape(A))"
      ],
      "execution_count": 10,
      "outputs": [
        {
          "output_type": "stream",
          "text": [
            "A: [[ 1  2  3  4]\n",
            " [ 5  6  7  8]\n",
            " [ 9 10 11 12]\n",
            " [13 14 15 16]\n",
            " [17 18 19 20]\n",
            " [21 22 23 24]]\n",
            "A: (6, 4)\n"
          ],
          "name": "stdout"
        }
      ]
    },
    {
      "cell_type": "code",
      "metadata": {
        "colab": {
          "base_uri": "https://localhost:8080/"
        },
        "id": "rFok-TdTHJu1",
        "outputId": "4e20d1b9-fdc1-4391-bc1f-277ca2b962a7"
      },
      "source": [
        "# 24-벡터 --> (24x1) 행렬\n",
        "\n",
        "# TODO\n",
        "A = np.reshape(v, (24, 1))\n",
        "\n",
        "print(\"A:\", A)\n",
        "print(\"A:\", np.shape(A))"
      ],
      "execution_count": 11,
      "outputs": [
        {
          "output_type": "stream",
          "text": [
            "A: [[ 1]\n",
            " [ 2]\n",
            " [ 3]\n",
            " [ 4]\n",
            " [ 5]\n",
            " [ 6]\n",
            " [ 7]\n",
            " [ 8]\n",
            " [ 9]\n",
            " [10]\n",
            " [11]\n",
            " [12]\n",
            " [13]\n",
            " [14]\n",
            " [15]\n",
            " [16]\n",
            " [17]\n",
            " [18]\n",
            " [19]\n",
            " [20]\n",
            " [21]\n",
            " [22]\n",
            " [23]\n",
            " [24]]\n",
            "A: (24, 1)\n"
          ],
          "name": "stdout"
        }
      ]
    },
    {
      "cell_type": "markdown",
      "metadata": {
        "id": "GOooXNMhGmdA"
      },
      "source": [
        "### 벡터 -> 3-텐서\r\n",
        "\r\n",
        "24-벡터 $\\mathbf{v}$를 2x3x4 텐서 $\\mathbf{T}$로 변환하는 numpy 코드를 작성하시오."
      ]
    },
    {
      "cell_type": "code",
      "metadata": {
        "colab": {
          "base_uri": "https://localhost:8080/"
        },
        "id": "lTuKQJHwGkaL",
        "outputId": "43555292-b955-4c02-bf63-a51291f2b325"
      },
      "source": [
        "# 24-벡터 --> (2x3x4) 텐서 (즉, 2개의 (3x4)행렬)\n",
        "# TODO\n",
        "T = np.reshape(v, (2, 3, 4))\n",
        "\n",
        "print(\"T:\", T)\n",
        "print(\"T:\", np.shape(T))"
      ],
      "execution_count": 12,
      "outputs": [
        {
          "output_type": "stream",
          "text": [
            "T: [[[ 1  2  3  4]\n",
            "  [ 5  6  7  8]\n",
            "  [ 9 10 11 12]]\n",
            "\n",
            " [[13 14 15 16]\n",
            "  [17 18 19 20]\n",
            "  [21 22 23 24]]]\n",
            "T: (2, 3, 4)\n"
          ],
          "name": "stdout"
        }
      ]
    },
    {
      "cell_type": "markdown",
      "metadata": {
        "id": "3Bl3v__7_uqi"
      },
      "source": [
        "### 벡터 -> 스칼라\r\n",
        "\r\n",
        "24-벡터 $\\mathbf{v}$의 모든 요소(element)를 합해, 스칼라 $s$로 나타내는 numpy 코드를 작성하시오."
      ]
    },
    {
      "cell_type": "code",
      "metadata": {
        "colab": {
          "base_uri": "https://localhost:8080/"
        },
        "id": "U2Eq5NVt_-wH",
        "outputId": "6e515762-c04a-4f3a-fca1-97c9e8a799d8"
      },
      "source": [
        "# TODO\n",
        "s = np.reshape(sum(v), (1,))\n",
        "\n",
        "print(s)"
      ],
      "execution_count": 14,
      "outputs": [
        {
          "output_type": "stream",
          "text": [
            "[300]\n"
          ],
          "name": "stdout"
        }
      ]
    },
    {
      "cell_type": "markdown",
      "metadata": {
        "id": "fZcGqAtSSTKF"
      },
      "source": [
        "## 행렬\r\n",
        "\r\n",
        "다음의 4x3 행렬 $A$를 정의하는 numpy 코드를 작성하시오.\r\n",
        "\r\n",
        "$$ A = \r\n",
        "\\left[\r\n",
        "\\begin{array}{rrrr}\r\n",
        " 1 &  2 &  3 \\\\\r\n",
        " 4 &  5 &  6 \\\\\r\n",
        " 7 &  8 &  9 \\\\\r\n",
        "10 & 11 & 12 \\\\\r\n",
        "\\end{array}\r\n",
        "\\right]\r\n",
        "$$"
      ]
    },
    {
      "cell_type": "code",
      "metadata": {
        "colab": {
          "base_uri": "https://localhost:8080/"
        },
        "id": "gU2C9qydRgsU",
        "outputId": "8afa4fc3-49d9-4c49-bd9d-ced539d61d9f"
      },
      "source": [
        "# TODO\n",
        "A = np.reshape(np.array([i+1 for i in range(12)]), (4, 3))\n",
        "\n",
        "print(A)\n",
        "print(np.shape(A))"
      ],
      "execution_count": 17,
      "outputs": [
        {
          "output_type": "stream",
          "text": [
            "[[ 1  2  3]\n",
            " [ 4  5  6]\n",
            " [ 7  8  9]\n",
            " [10 11 12]]\n",
            "(4, 3)\n"
          ],
          "name": "stdout"
        }
      ]
    },
    {
      "cell_type": "markdown",
      "metadata": {
        "id": "gPp7RKZ7Sp_L"
      },
      "source": [
        "### 행렬 -> 3-텐서\r\n",
        "\r\n",
        "4x3 행렬 $A$를 2x3x2 텐서 $\\mathbf{T}$로 변환하는 numpy 코드를 작성하시오."
      ]
    },
    {
      "cell_type": "code",
      "metadata": {
        "colab": {
          "base_uri": "https://localhost:8080/"
        },
        "id": "jJe0Im38ACVz",
        "outputId": "8f9d8033-8cfb-49dc-b58e-d7c81341c312"
      },
      "source": [
        "# 4x3 행렬 --> (2x3x2) 텐서\n",
        "# TODO\n",
        "T = np.reshape(A, (2, 3, 2))\n",
        "\n",
        "print(T)\n",
        "print(np.shape(T))"
      ],
      "execution_count": 18,
      "outputs": [
        {
          "output_type": "stream",
          "text": [
            "[[[ 1  2]\n",
            "  [ 3  4]\n",
            "  [ 5  6]]\n",
            "\n",
            " [[ 7  8]\n",
            "  [ 9 10]\n",
            "  [11 12]]]\n",
            "(2, 3, 2)\n"
          ],
          "name": "stdout"
        }
      ]
    },
    {
      "cell_type": "markdown",
      "metadata": {
        "id": "pu1LEUrQTlBH"
      },
      "source": [
        "### 행렬 -> 벡터\r\n",
        "\r\n",
        "4x3 행렬 $A$를 12-벡터 $\\mathbf{v}$로 변환하는 numpy 코드를 작성하시오."
      ]
    },
    {
      "cell_type": "code",
      "metadata": {
        "colab": {
          "base_uri": "https://localhost:8080/"
        },
        "id": "Fg-9YGgUAgLc",
        "outputId": "a829ccbf-be41-478a-d1b0-7728d5c6a7e6"
      },
      "source": [
        "# TODO\n",
        "v = np.reshape(A, (12,))\n",
        "\n",
        "print(v)\n",
        "print(np.shape(v))"
      ],
      "execution_count": 19,
      "outputs": [
        {
          "output_type": "stream",
          "text": [
            "[ 1  2  3  4  5  6  7  8  9 10 11 12]\n",
            "(12,)\n"
          ],
          "name": "stdout"
        }
      ]
    },
    {
      "cell_type": "markdown",
      "metadata": {
        "id": "XoAZVgfyT2h8"
      },
      "source": [
        "### 행렬 -> 스칼라\r\n",
        "\r\n",
        "4x3 행렬 $A$의 모든 요소(element)를 합해, 스칼라 $s$로 나타내는 numpy 코드를 작성하시오."
      ]
    },
    {
      "cell_type": "code",
      "metadata": {
        "colab": {
          "base_uri": "https://localhost:8080/"
        },
        "id": "Z4DEh2rMAy46",
        "outputId": "d034a625-8f1e-41fe-9caa-17f62648a82f"
      },
      "source": [
        "# TODO\n",
        "s = np.reshape(sum(v), (1,))\n",
        "\n",
        "print(s)\n",
        "print(np.shape(s))"
      ],
      "execution_count": 21,
      "outputs": [
        {
          "output_type": "stream",
          "text": [
            "[78]\n",
            "(1,)\n"
          ],
          "name": "stdout"
        }
      ]
    }
  ]
}