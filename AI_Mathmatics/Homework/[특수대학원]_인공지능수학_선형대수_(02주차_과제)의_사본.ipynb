{
  "nbformat": 4,
  "nbformat_minor": 0,
  "metadata": {
    "colab": {
      "name": "[특수대학원] 인공지능수학 선형대수 (02주차 과제)의 사본",
      "provenance": [],
      "collapsed_sections": []
    },
    "kernelspec": {
      "name": "python3",
      "display_name": "Python 3"
    }
  },
  "cells": [
    {
      "cell_type": "markdown",
      "metadata": {
        "id": "Fn6NoDwPmhNs"
      },
      "source": [
        "# 과제 목표\n",
        "\n",
        "파이썬 numpy 패키지를 이용해 주어진 행렬의 랭크(rank)를 구하는 코드를 작성합니다.\n",
        "\n",
        "참고자료: [링크](https://numpy.org/doc/stable/reference/generated/numpy.linalg.matrix_rank.html)"
      ]
    },
    {
      "cell_type": "markdown",
      "metadata": {
        "id": "T-kzn78qsK1W"
      },
      "source": [
        "## 행렬 $A$ 정의\r\n",
        "\r\n",
        "다음의 3x3 행렬 $A$를 정의하는 numpy 코드를 작성하시오.\r\n",
        "\r\n",
        "$$ A = \r\n",
        "\\left[\r\n",
        "\\begin{array}{rrr}\r\n",
        " 1 &  2 &  1 \\\\\r\n",
        " 1 &  2 &  3 \\\\\r\n",
        " 2 &  3 & -1\r\n",
        "\\end{array}\r\n",
        "\\right]\r\n",
        "$$"
      ]
    },
    {
      "cell_type": "code",
      "metadata": {
        "id": "kvcJK1GfTqxA"
      },
      "source": [
        "import numpy as np\r\n",
        "from numpy.linalg import matrix_rank"
      ],
      "execution_count": null,
      "outputs": []
    },
    {
      "cell_type": "code",
      "metadata": {
        "id": "SqWHFBWsT3K7",
        "colab": {
          "base_uri": "https://localhost:8080/"
        },
        "outputId": "656817a6-470b-478a-8fd4-0189d1215d23"
      },
      "source": [
        "# 행렬 코딩\n",
        "\n",
        "## TODO\n",
        "A = np.array([[1, 2, 1], [1, 2, 3], [2, 3, -1]])\n",
        "\n",
        "print(A)\n",
        "print(np.shape(A))"
      ],
      "execution_count": null,
      "outputs": [
        {
          "output_type": "stream",
          "text": [
            "[[ 1  2  1]\n",
            " [ 1  2  3]\n",
            " [ 2  3 -1]]\n",
            "(3, 3)\n"
          ],
          "name": "stdout"
        }
      ]
    },
    {
      "cell_type": "markdown",
      "metadata": {
        "id": "BZKBCNvtugaz"
      },
      "source": [
        "## 행렬 $A$의 랭크 계산\r\n",
        "앞서 정의한 행렬 $A$의 랭크(rank)를 계산하는 numpy 코드를 작성하시오."
      ]
    },
    {
      "cell_type": "code",
      "metadata": {
        "colab": {
          "base_uri": "https://localhost:8080/"
        },
        "id": "YFVDrsxxh6gc",
        "outputId": "5f3e115b-ec8c-457b-8379-88c2f510e43e"
      },
      "source": [
        "# 랭크 계산\n",
        "\n",
        "## TODO\n",
        "rank_A = matrix_rank(A)\n",
        "\n",
        "print(\"rank(A): \", rank_A)"
      ],
      "execution_count": null,
      "outputs": [
        {
          "output_type": "stream",
          "text": [
            "rank(A):  3\n"
          ],
          "name": "stdout"
        }
      ]
    },
    {
      "cell_type": "markdown",
      "metadata": {
        "id": "H6EsN_0ovDrW"
      },
      "source": [
        "## 행렬 $B$ 정의\r\n",
        "\r\n",
        "다음의 3x3 행렬 $B$를 정의하는 numpy 코드를 작성하시오.\r\n",
        "\r\n",
        "$$ B = \r\n",
        "\\left[\r\n",
        "\\begin{array}{rrr}\r\n",
        " 1 &  2 &  1 \\\\\r\n",
        " 1 &  2 &  3 \\\\\r\n",
        " 2 &  4 &  4\r\n",
        "\\end{array}\r\n",
        "\\right]\r\n",
        "$$"
      ]
    },
    {
      "cell_type": "code",
      "metadata": {
        "colab": {
          "base_uri": "https://localhost:8080/"
        },
        "id": "vE5nVm9uiAC_",
        "outputId": "762757e1-f681-413e-ed66-67125b69cb4d"
      },
      "source": [
        "# 행렬 코딩\n",
        "\n",
        "## TODO\n",
        "B = np.array([[1, 2, 1], [1, 2, 3], [2, 4, 4]])\n",
        "\n",
        "print(B)\n",
        "print(np.shape(B))"
      ],
      "execution_count": null,
      "outputs": [
        {
          "output_type": "stream",
          "text": [
            "[[1 2 1]\n",
            " [1 2 3]\n",
            " [2 4 4]]\n",
            "(3, 3)\n"
          ],
          "name": "stdout"
        }
      ]
    },
    {
      "cell_type": "markdown",
      "metadata": {
        "id": "5LyhlkgdvgB5"
      },
      "source": [
        "## 행렬 $B$의 랭크 계산\r\n",
        "앞서 정의한 행렬 $B$의 랭크(rank)를 계산하는 numpy 코드를 작성하시오."
      ]
    },
    {
      "cell_type": "code",
      "metadata": {
        "colab": {
          "base_uri": "https://localhost:8080/"
        },
        "id": "BcrQWuJ3iaFr",
        "outputId": "142f7bef-e95a-4977-afdb-59dcfe70e934"
      },
      "source": [
        "# 랭크 계산\n",
        "\n",
        "## TODO\n",
        "rank_B = matrix_rank(B)\n",
        "\n",
        "print(\"rank(B): \", rank_B)"
      ],
      "execution_count": null,
      "outputs": [
        {
          "output_type": "stream",
          "text": [
            "rank(B):  2\n"
          ],
          "name": "stdout"
        }
      ]
    },
    {
      "cell_type": "code",
      "metadata": {
        "id": "EMfrBwsKY8IR"
      },
      "source": [
        ""
      ],
      "execution_count": null,
      "outputs": []
    },
    {
      "cell_type": "markdown",
      "metadata": {
        "id": "BOfmDAiFwSdl"
      },
      "source": [
        "## 랭크의 의미 이해하기\r\n",
        "\r\n",
        "거의 유사한 행렬 $A$와 $B$가 서로 다른 랭크가 나오는 것을 확인하였다. 특히, 행렬 $B$는 랭크가 3보다 적은 수로 나온다. \r\n",
        "\r\n",
        "행렬 $B$의 랭크가 3이 나오지 않는 그 이유를 설명하시오."
      ]
    },
    {
      "cell_type": "markdown",
      "metadata": {
        "id": "op4yp2W52WPc"
      },
      "source": [
        "행렬 A의 forward elimination 과정을 거쳤을 때 [[1, 2, 1], [0, 1, 3], [0, 0, 1]] upper triangular form 이 나오며, 의미있는 식 3개가 나온다. \r\n",
        "하지만 행렬 B의 forward elimination 과정을 거치면 [[1, 2, 1], [0, 0, 2], [0, 0, 2]] 형태를 지니며 2번째와 3번째 linear equation이 같은 식을 의미하므로 실질적으로 의미있는 식은 2개이기 때문에 서로 다른 rank가 나온다.\r\n"
      ]
    }
  ]
}