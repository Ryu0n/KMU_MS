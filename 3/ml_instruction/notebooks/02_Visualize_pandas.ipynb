{
 "cells": [
  {
   "cell_type": "markdown",
   "metadata": {
    "id": "VPcdJU4l-uj9"
   },
   "source": [
    "## pandas plot\n",
    "- pandas로도 간단하게 그래프를 표현할 수 있음\n",
    "###  kind : str\n",
    "    - 'line' : line plot (default)\n",
    "    - 'bar' : vertical bar plot\n",
    "    - 'barh' : horizontal bar plot\n",
    "    - 'hist' : histogram\n",
    "    - 'box' : boxplot\n",
    "    - 'kde' : Kernel Density Estimation plot\n",
    "    - 'density' : same as 'kde'\n",
    "    - 'area' : area plot\n",
    "    - 'pie' : pie plot\n",
    "    - 'scatter' : scatter plot\n",
    "    - 'hexbin' : hexbin plot\n",
    "\n",
    "## reference\n",
    "- https://pandas.pydata.org/pandas-docs/stable/user_guide/visualization.html"
   ]
  },
  {
   "cell_type": "code",
   "execution_count": 1,
   "metadata": {
    "id": "yBhDVXDP-295"
   },
   "outputs": [],
   "source": [
    "import pandas as pd\n",
    "import numpy as np"
   ]
  },
  {
   "cell_type": "code",
   "execution_count": 2,
   "metadata": {
    "id": "IVYXiWlc-_1C"
   },
   "outputs": [],
   "source": [
    "import matplotlib as mpl\n",
    "import matplotlib.pyplot as plt\n",
    "\n",
    "# jupyter notebook내에 그래프 표현\n",
    "%matplotlib inline\n",
    "\n",
    "# 한글폰트 사용시 그래프에서 마이너스 폰트 깨지는 문제 해결\n",
    "mpl.rcParams['axes.unicode_minus'] = False"
   ]
  },
  {
   "cell_type": "code",
   "execution_count": null,
   "metadata": {
    "id": "-uKfQDfxAQQL"
   },
   "outputs": [],
   "source": [
    "#plt.rc(\"font\", family=\"Malgun Gothic\") # 한글깨짐 for windows\n",
    "#plt.rc(\"font\", family=\"AppleGothic\") # 한글깨짐 for mac"
   ]
  },
  {
   "cell_type": "markdown",
   "metadata": {
    "id": "9x9GdzKEAQuq"
   },
   "source": [
    "## reference 에 있는 코드로 실습"
   ]
  },
  {
   "cell_type": "markdown",
   "metadata": {
    "id": "zPFuKorqCT2U"
   },
   "source": [
    "### 1) plot"
   ]
  },
  {
   "cell_type": "markdown",
   "metadata": {
    "id": "9TxdJSUv-hfH"
   },
   "source": [
    "- np.random.randn : 난수 발생\n",
    "    - np.random.randn() # 1개의 난수 발생\n",
    "    - np.random.randn(10) # 10개의 난수 발생\n",
    "    - np.random.randn(10, 2) # 10x2의 형태로 난수 발생"
   ]
  },
  {
   "cell_type": "code",
   "execution_count": 3,
   "metadata": {
    "id": "Pgi7mSf--t8J"
   },
   "outputs": [
    {
     "data": {
      "text/plain": [
       "(10, 2)"
      ]
     },
     "execution_count": 3,
     "metadata": {},
     "output_type": "execute_result"
    }
   ],
   "source": [
    "np.random.randn(10, 2).shape"
   ]
  },
  {
   "cell_type": "markdown",
   "metadata": {
    "id": "ZRub4QOP_LLa"
   },
   "source": [
    "- plt.figure() 는 figure의 속성을 변경하는데 사용되는 함수이다. 크기를 변경하려면 plt.figure(figsize=(15, 5)) 와 같이 가로/세로 크기를 준다. 이 때 단위는 '인치'이다.\n",
    "- pandas 예제는 현재 의미없는 코드임"
   ]
  },
  {
   "cell_type": "code",
   "execution_count": 4,
   "metadata": {
    "id": "NL8JUKYA_HKv"
   },
   "outputs": [
    {
     "data": {
      "text/plain": [
       "2000-01-01   -0.982796\n",
       "2000-01-02   -1.999037\n",
       "2000-01-03    0.279183\n",
       "2000-01-04    1.103207\n",
       "2000-01-05   -1.352138\n",
       "                ...   \n",
       "2002-09-22    1.940046\n",
       "2002-09-23    0.721751\n",
       "2002-09-24    0.026408\n",
       "2002-09-25   -0.301553\n",
       "2002-09-26   -0.289200\n",
       "Freq: D, Length: 1000, dtype: float64"
      ]
     },
     "execution_count": 4,
     "metadata": {},
     "output_type": "execute_result"
    }
   ],
   "source": [
    "ts = pd.Series(np.random.randn(1000), index=pd.date_range(\"1/1/2000\", periods=1000))\n",
    "ts"
   ]
  },
  {
   "cell_type": "code",
   "execution_count": 5,
   "metadata": {
    "id": "umFQiBYc9Ixm"
   },
   "outputs": [
    {
     "data": {
      "text/plain": [
       "2000-01-01   -0.982796\n",
       "2000-01-02   -2.981833\n",
       "2000-01-03   -2.702650\n",
       "2000-01-04   -1.599443\n",
       "2000-01-05   -2.951581\n",
       "                ...   \n",
       "2002-09-22    0.109709\n",
       "2002-09-23    0.831460\n",
       "2002-09-24    0.857868\n",
       "2002-09-25    0.556315\n",
       "2002-09-26    0.267115\n",
       "Freq: D, Length: 1000, dtype: float64"
      ]
     },
     "execution_count": 5,
     "metadata": {},
     "output_type": "execute_result"
    }
   ],
   "source": [
    "ts = ts.cumsum()\n",
    "ts"
   ]
  },
  {
   "cell_type": "code",
   "execution_count": 6,
   "metadata": {
    "id": "g8QznOW39Thx"
   },
   "outputs": [
    {
     "data": {
      "text/plain": [
       "<AxesSubplot:>"
      ]
     },
     "execution_count": 6,
     "metadata": {},
     "output_type": "execute_result"
    },
    {
     "data": {
      "image/png": "[encoded data removed]",
      "text/plain": [
       "<Figure size 432x288 with 1 Axes>"
      ]
     },
     "metadata": {
      "needs_background": "light"
     },
     "output_type": "display_data"
    }
   ],
   "source": [
    "ts.plot()"
   ]
  },
  {
   "cell_type": "code",
   "execution_count": 7,
   "metadata": {
    "id": "6y1tzlq8_XBe"
   },
   "outputs": [],
   "source": [
    "df = pd.DataFrame(np.random.randn(1000, 4), index=ts.index, columns=list(\"ABCD\"))"
   ]
  },
  {
   "cell_type": "code",
   "execution_count": 8,
   "metadata": {
    "id": "98OWzXNAAa1t"
   },
   "outputs": [
    {
     "data": {
      "text/html": [
       "<div>\n",
       "<style scoped>\n",
       "    .dataframe tbody tr th:only-of-type {\n",
       "        vertical-align: middle;\n",
       "    }\n",
       "\n",
       "    .dataframe tbody tr th {\n",
       "        vertical-align: top;\n",
       "    }\n",
       "\n",
       "    .dataframe thead th {\n",
       "        text-align: right;\n",
       "    }\n",
       "</style>\n",
       "<table border=\"1\" class=\"dataframe\">\n",
       "  <thead>\n",
       "    <tr style=\"text-align: right;\">\n",
       "      <th></th>\n",
       "      <th>A</th>\n",
       "      <th>B</th>\n",
       "      <th>C</th>\n",
       "      <th>D</th>\n",
       "    </tr>\n",
       "  </thead>\n",
       "  <tbody>\n",
       "    <tr>\n",
       "      <th>2000-01-01</th>\n",
       "      <td>-1.871134</td>\n",
       "      <td>-0.714821</td>\n",
       "      <td>0.180679</td>\n",
       "      <td>-0.482371</td>\n",
       "    </tr>\n",
       "    <tr>\n",
       "      <th>2000-01-02</th>\n",
       "      <td>0.219210</td>\n",
       "      <td>0.999296</td>\n",
       "      <td>-2.171725</td>\n",
       "      <td>0.490080</td>\n",
       "    </tr>\n",
       "    <tr>\n",
       "      <th>2000-01-03</th>\n",
       "      <td>-0.606015</td>\n",
       "      <td>1.057861</td>\n",
       "      <td>1.039344</td>\n",
       "      <td>-1.824200</td>\n",
       "    </tr>\n",
       "    <tr>\n",
       "      <th>2000-01-04</th>\n",
       "      <td>-1.170598</td>\n",
       "      <td>-1.565389</td>\n",
       "      <td>-1.292385</td>\n",
       "      <td>0.620336</td>\n",
       "    </tr>\n",
       "    <tr>\n",
       "      <th>2000-01-05</th>\n",
       "      <td>-2.269637</td>\n",
       "      <td>-0.643919</td>\n",
       "      <td>-0.297441</td>\n",
       "      <td>1.909631</td>\n",
       "    </tr>\n",
       "  </tbody>\n",
       "</table>\n",
       "</div>"
      ],
      "text/plain": [
       "                   A         B         C         D\n",
       "2000-01-01 -1.871134 -0.714821  0.180679 -0.482371\n",
       "2000-01-02  0.219210  0.999296 -2.171725  0.490080\n",
       "2000-01-03 -0.606015  1.057861  1.039344 -1.824200\n",
       "2000-01-04 -1.170598 -1.565389 -1.292385  0.620336\n",
       "2000-01-05 -2.269637 -0.643919 -0.297441  1.909631"
      ]
     },
     "execution_count": 8,
     "metadata": {},
     "output_type": "execute_result"
    }
   ],
   "source": [
    "df.head()"
   ]
  },
  {
   "cell_type": "code",
   "execution_count": 9,
   "metadata": {
    "id": "Y1tcV8iSAceD"
   },
   "outputs": [
    {
     "data": {
      "text/html": [
       "<div>\n",
       "<style scoped>\n",
       "    .dataframe tbody tr th:only-of-type {\n",
       "        vertical-align: middle;\n",
       "    }\n",
       "\n",
       "    .dataframe tbody tr th {\n",
       "        vertical-align: top;\n",
       "    }\n",
       "\n",
       "    .dataframe thead th {\n",
       "        text-align: right;\n",
       "    }\n",
       "</style>\n",
       "<table border=\"1\" class=\"dataframe\">\n",
       "  <thead>\n",
       "    <tr style=\"text-align: right;\">\n",
       "      <th></th>\n",
       "      <th>A</th>\n",
       "      <th>B</th>\n",
       "      <th>C</th>\n",
       "      <th>D</th>\n",
       "    </tr>\n",
       "  </thead>\n",
       "  <tbody>\n",
       "    <tr>\n",
       "      <th>2000-01-01</th>\n",
       "      <td>-1.871134</td>\n",
       "      <td>-0.714821</td>\n",
       "      <td>0.180679</td>\n",
       "      <td>-0.482371</td>\n",
       "    </tr>\n",
       "    <tr>\n",
       "      <th>2000-01-02</th>\n",
       "      <td>-1.651924</td>\n",
       "      <td>0.284475</td>\n",
       "      <td>-1.991046</td>\n",
       "      <td>0.007709</td>\n",
       "    </tr>\n",
       "    <tr>\n",
       "      <th>2000-01-03</th>\n",
       "      <td>-2.257939</td>\n",
       "      <td>1.342336</td>\n",
       "      <td>-0.951702</td>\n",
       "      <td>-1.816492</td>\n",
       "    </tr>\n",
       "    <tr>\n",
       "      <th>2000-01-04</th>\n",
       "      <td>-3.428537</td>\n",
       "      <td>-0.223053</td>\n",
       "      <td>-2.244087</td>\n",
       "      <td>-1.196155</td>\n",
       "    </tr>\n",
       "    <tr>\n",
       "      <th>2000-01-05</th>\n",
       "      <td>-5.698174</td>\n",
       "      <td>-0.866971</td>\n",
       "      <td>-2.541528</td>\n",
       "      <td>0.713476</td>\n",
       "    </tr>\n",
       "    <tr>\n",
       "      <th>...</th>\n",
       "      <td>...</td>\n",
       "      <td>...</td>\n",
       "      <td>...</td>\n",
       "      <td>...</td>\n",
       "    </tr>\n",
       "    <tr>\n",
       "      <th>2002-09-22</th>\n",
       "      <td>31.827047</td>\n",
       "      <td>28.727149</td>\n",
       "      <td>-8.436917</td>\n",
       "      <td>-16.697530</td>\n",
       "    </tr>\n",
       "    <tr>\n",
       "      <th>2002-09-23</th>\n",
       "      <td>30.573136</td>\n",
       "      <td>29.426241</td>\n",
       "      <td>-9.223850</td>\n",
       "      <td>-17.300489</td>\n",
       "    </tr>\n",
       "    <tr>\n",
       "      <th>2002-09-24</th>\n",
       "      <td>32.035470</td>\n",
       "      <td>28.563173</td>\n",
       "      <td>-7.699978</td>\n",
       "      <td>-16.901973</td>\n",
       "    </tr>\n",
       "    <tr>\n",
       "      <th>2002-09-25</th>\n",
       "      <td>32.427535</td>\n",
       "      <td>28.721668</td>\n",
       "      <td>-7.928063</td>\n",
       "      <td>-18.058440</td>\n",
       "    </tr>\n",
       "    <tr>\n",
       "      <th>2002-09-26</th>\n",
       "      <td>32.677283</td>\n",
       "      <td>27.672861</td>\n",
       "      <td>-8.303460</td>\n",
       "      <td>-17.955044</td>\n",
       "    </tr>\n",
       "  </tbody>\n",
       "</table>\n",
       "<p>1000 rows × 4 columns</p>\n",
       "</div>"
      ],
      "text/plain": [
       "                    A          B         C          D\n",
       "2000-01-01  -1.871134  -0.714821  0.180679  -0.482371\n",
       "2000-01-02  -1.651924   0.284475 -1.991046   0.007709\n",
       "2000-01-03  -2.257939   1.342336 -0.951702  -1.816492\n",
       "2000-01-04  -3.428537  -0.223053 -2.244087  -1.196155\n",
       "2000-01-05  -5.698174  -0.866971 -2.541528   0.713476\n",
       "...               ...        ...       ...        ...\n",
       "2002-09-22  31.827047  28.727149 -8.436917 -16.697530\n",
       "2002-09-23  30.573136  29.426241 -9.223850 -17.300489\n",
       "2002-09-24  32.035470  28.563173 -7.699978 -16.901973\n",
       "2002-09-25  32.427535  28.721668 -7.928063 -18.058440\n",
       "2002-09-26  32.677283  27.672861 -8.303460 -17.955044\n",
       "\n",
       "[1000 rows x 4 columns]"
      ]
     },
     "execution_count": 9,
     "metadata": {},
     "output_type": "execute_result"
    }
   ],
   "source": [
    "df2 = df.cumsum()\n",
    "df2"
   ]
  },
  {
   "cell_type": "code",
   "execution_count": 10,
   "metadata": {
    "id": "sSP7f0O4Aech"
   },
   "outputs": [
    {
     "data": {
      "text/plain": [
       "<AxesSubplot:>"
      ]
     },
     "execution_count": 10,
     "metadata": {},
     "output_type": "execute_result"
    },
    {
     "data": {
      "image/png": "[encoded data removed]",
      "text/plain": [
       "<Figure size 432x288 with 1 Axes>"
      ]
     },
     "metadata": {
      "needs_background": "light"
     },
     "output_type": "display_data"
    }
   ],
   "source": [
    "# On DataFrame, plot() is a convenience to plot all of the columns with labels\n",
    "df2.plot() #  default : x축은 index를 y축은 column으로 하였으며, 각 y축을 legend로 표현함"
   ]
  },
  {
   "cell_type": "code",
   "execution_count": null,
   "metadata": {
    "id": "PWDHkfwm-Vut"
   },
   "outputs": [],
   "source": [
    "np.random.randn?"
   ]
  },
  {
   "cell_type": "code",
   "execution_count": 11,
   "metadata": {
    "id": "DjI92u9IAkUB"
   },
   "outputs": [
    {
     "data": {
      "text/html": [
       "<div>\n",
       "<style scoped>\n",
       "    .dataframe tbody tr th:only-of-type {\n",
       "        vertical-align: middle;\n",
       "    }\n",
       "\n",
       "    .dataframe tbody tr th {\n",
       "        vertical-align: top;\n",
       "    }\n",
       "\n",
       "    .dataframe thead th {\n",
       "        text-align: right;\n",
       "    }\n",
       "</style>\n",
       "<table border=\"1\" class=\"dataframe\">\n",
       "  <thead>\n",
       "    <tr style=\"text-align: right;\">\n",
       "      <th></th>\n",
       "      <th>B</th>\n",
       "      <th>C</th>\n",
       "      <th>A</th>\n",
       "    </tr>\n",
       "  </thead>\n",
       "  <tbody>\n",
       "    <tr>\n",
       "      <th>0</th>\n",
       "      <td>0.067752</td>\n",
       "      <td>-1.126645</td>\n",
       "      <td>0</td>\n",
       "    </tr>\n",
       "    <tr>\n",
       "      <th>1</th>\n",
       "      <td>-0.225201</td>\n",
       "      <td>0.331059</td>\n",
       "      <td>1</td>\n",
       "    </tr>\n",
       "    <tr>\n",
       "      <th>2</th>\n",
       "      <td>1.032982</td>\n",
       "      <td>-1.088885</td>\n",
       "      <td>2</td>\n",
       "    </tr>\n",
       "    <tr>\n",
       "      <th>3</th>\n",
       "      <td>2.164348</td>\n",
       "      <td>-0.072623</td>\n",
       "      <td>3</td>\n",
       "    </tr>\n",
       "    <tr>\n",
       "      <th>4</th>\n",
       "      <td>1.756735</td>\n",
       "      <td>-0.222066</td>\n",
       "      <td>4</td>\n",
       "    </tr>\n",
       "    <tr>\n",
       "      <th>...</th>\n",
       "      <td>...</td>\n",
       "      <td>...</td>\n",
       "      <td>...</td>\n",
       "    </tr>\n",
       "    <tr>\n",
       "      <th>995</th>\n",
       "      <td>7.576567</td>\n",
       "      <td>-56.723662</td>\n",
       "      <td>995</td>\n",
       "    </tr>\n",
       "    <tr>\n",
       "      <th>996</th>\n",
       "      <td>8.307070</td>\n",
       "      <td>-58.153011</td>\n",
       "      <td>996</td>\n",
       "    </tr>\n",
       "    <tr>\n",
       "      <th>997</th>\n",
       "      <td>7.867835</td>\n",
       "      <td>-57.483155</td>\n",
       "      <td>997</td>\n",
       "    </tr>\n",
       "    <tr>\n",
       "      <th>998</th>\n",
       "      <td>7.684186</td>\n",
       "      <td>-58.060336</td>\n",
       "      <td>998</td>\n",
       "    </tr>\n",
       "    <tr>\n",
       "      <th>999</th>\n",
       "      <td>9.192411</td>\n",
       "      <td>-59.255292</td>\n",
       "      <td>999</td>\n",
       "    </tr>\n",
       "  </tbody>\n",
       "</table>\n",
       "<p>1000 rows × 3 columns</p>\n",
       "</div>"
      ],
      "text/plain": [
       "            B          C    A\n",
       "0    0.067752  -1.126645    0\n",
       "1   -0.225201   0.331059    1\n",
       "2    1.032982  -1.088885    2\n",
       "3    2.164348  -0.072623    3\n",
       "4    1.756735  -0.222066    4\n",
       "..        ...        ...  ...\n",
       "995  7.576567 -56.723662  995\n",
       "996  8.307070 -58.153011  996\n",
       "997  7.867835 -57.483155  997\n",
       "998  7.684186 -58.060336  998\n",
       "999  9.192411 -59.255292  999\n",
       "\n",
       "[1000 rows x 3 columns]"
      ]
     },
     "execution_count": 11,
     "metadata": {},
     "output_type": "execute_result"
    }
   ],
   "source": [
    "df3 = pd.DataFrame(np.random.randn(1000, 2), columns=[\"B\", \"C\"]).cumsum()\n",
    "df3[\"A\"] = pd.Series(list(range(len(df3))))\n",
    "df3"
   ]
  },
  {
   "cell_type": "code",
   "execution_count": 12,
   "metadata": {
    "id": "LAemc2Cy-MS8"
   },
   "outputs": [
    {
     "data": {
      "text/plain": [
       "<AxesSubplot:xlabel='A'>"
      ]
     },
     "execution_count": 12,
     "metadata": {},
     "output_type": "execute_result"
    },
    {
     "data": {
      "image/png": "[encoded data removed]",
      "text/plain": [
       "<Figure size 432x288 with 1 Axes>"
      ]
     },
     "metadata": {
      "needs_background": "light"
     },
     "output_type": "display_data"
    }
   ],
   "source": [
    "df3.plot(x=\"A\", y=\"B\")"
   ]
  },
  {
   "cell_type": "code",
   "execution_count": 13,
   "metadata": {
    "id": "_2X7cCHG3iFz"
   },
   "outputs": [
    {
     "data": {
      "text/plain": [
       "<AxesSubplot:xlabel='A'>"
      ]
     },
     "execution_count": 13,
     "metadata": {},
     "output_type": "execute_result"
    },
    {
     "data": {
      "image/png": "[encoded data removed]",
      "text/plain": [
       "<Figure size 432x288 with 1 Axes>"
      ]
     },
     "metadata": {
      "needs_background": "light"
     },
     "output_type": "display_data"
    }
   ],
   "source": [
    "df3.plot(x=\"A\", y=[\"B\", \"C\"])"
   ]
  },
  {
   "cell_type": "markdown",
   "metadata": {
    "id": "4Tuw9uenB3nW"
   },
   "source": [
    "### 2) bar"
   ]
  },
  {
   "cell_type": "code",
   "execution_count": 14,
   "metadata": {
    "id": "cydzObckDaiK"
   },
   "outputs": [
    {
     "data": {
      "text/html": [
       "<div>\n",
       "<style scoped>\n",
       "    .dataframe tbody tr th:only-of-type {\n",
       "        vertical-align: middle;\n",
       "    }\n",
       "\n",
       "    .dataframe tbody tr th {\n",
       "        vertical-align: top;\n",
       "    }\n",
       "\n",
       "    .dataframe thead th {\n",
       "        text-align: right;\n",
       "    }\n",
       "</style>\n",
       "<table border=\"1\" class=\"dataframe\">\n",
       "  <thead>\n",
       "    <tr style=\"text-align: right;\">\n",
       "      <th></th>\n",
       "      <th>A</th>\n",
       "      <th>B</th>\n",
       "      <th>C</th>\n",
       "      <th>D</th>\n",
       "    </tr>\n",
       "  </thead>\n",
       "  <tbody>\n",
       "    <tr>\n",
       "      <th>2000-01-01</th>\n",
       "      <td>1.601918</td>\n",
       "      <td>0.954391</td>\n",
       "      <td>-1.354319</td>\n",
       "      <td>-0.929365</td>\n",
       "    </tr>\n",
       "    <tr>\n",
       "      <th>2000-01-02</th>\n",
       "      <td>-0.312595</td>\n",
       "      <td>0.651756</td>\n",
       "      <td>0.573708</td>\n",
       "      <td>1.456798</td>\n",
       "    </tr>\n",
       "    <tr>\n",
       "      <th>2000-01-03</th>\n",
       "      <td>-1.014792</td>\n",
       "      <td>1.603103</td>\n",
       "      <td>-0.756829</td>\n",
       "      <td>1.502262</td>\n",
       "    </tr>\n",
       "    <tr>\n",
       "      <th>2000-01-04</th>\n",
       "      <td>0.655796</td>\n",
       "      <td>-1.311979</td>\n",
       "      <td>-0.840242</td>\n",
       "      <td>1.015105</td>\n",
       "    </tr>\n",
       "    <tr>\n",
       "      <th>2000-01-05</th>\n",
       "      <td>0.012412</td>\n",
       "      <td>-1.039594</td>\n",
       "      <td>0.858167</td>\n",
       "      <td>-0.367412</td>\n",
       "    </tr>\n",
       "  </tbody>\n",
       "</table>\n",
       "</div>"
      ],
      "text/plain": [
       "                   A         B         C         D\n",
       "2000-01-01  1.601918  0.954391 -1.354319 -0.929365\n",
       "2000-01-02 -0.312595  0.651756  0.573708  1.456798\n",
       "2000-01-03 -1.014792  1.603103 -0.756829  1.502262\n",
       "2000-01-04  0.655796 -1.311979 -0.840242  1.015105\n",
       "2000-01-05  0.012412 -1.039594  0.858167 -0.367412"
      ]
     },
     "execution_count": 14,
     "metadata": {},
     "output_type": "execute_result"
    }
   ],
   "source": [
    "df = pd.DataFrame(np.random.randn(1000, 4), index=ts.index, columns=list(\"ABCD\"))\n",
    "df.head()"
   ]
  },
  {
   "cell_type": "code",
   "execution_count": 15,
   "metadata": {
    "id": "IPN2M5peDCux"
   },
   "outputs": [
    {
     "data": {
      "text/plain": [
       "A    0.105561\n",
       "B    2.541621\n",
       "C    1.436453\n",
       "D   -0.470809\n",
       "Name: 2000-01-06 00:00:00, dtype: float64"
      ]
     },
     "execution_count": 15,
     "metadata": {},
     "output_type": "execute_result"
    }
   ],
   "source": [
    "df.iloc[5]"
   ]
  },
  {
   "cell_type": "code",
   "execution_count": 16,
   "metadata": {
    "id": "g_aVWdcYDCxU"
   },
   "outputs": [
    {
     "data": {
      "text/plain": [
       "<AxesSubplot:>"
      ]
     },
     "execution_count": 16,
     "metadata": {},
     "output_type": "execute_result"
    },
    {
     "data": {
      "image/png": "[encoded data removed]",
      "text/plain": [
       "<Figure size 432x288 with 1 Axes>"
      ]
     },
     "metadata": {
      "needs_background": "light"
     },
     "output_type": "display_data"
    }
   ],
   "source": [
    "df.iloc[5].plot(kind=\"bar\")"
   ]
  },
  {
   "cell_type": "code",
   "execution_count": 17,
   "metadata": {
    "id": "kJ5XnqfMDC2R"
   },
   "outputs": [
    {
     "data": {
      "text/plain": [
       "<AxesSubplot:>"
      ]
     },
     "execution_count": 17,
     "metadata": {},
     "output_type": "execute_result"
    },
    {
     "data": {
      "image/png": "[encoded data removed]",
      "text/plain": [
       "<Figure size 432x288 with 1 Axes>"
      ]
     },
     "metadata": {
      "needs_background": "light"
     },
     "output_type": "display_data"
    }
   ],
   "source": [
    "df.iloc[5].plot.bar()"
   ]
  },
  {
   "cell_type": "code",
   "execution_count": 18,
   "metadata": {
    "id": "5B6D68BLDC4u"
   },
   "outputs": [
    {
     "data": {
      "text/html": [
       "<div>\n",
       "<style scoped>\n",
       "    .dataframe tbody tr th:only-of-type {\n",
       "        vertical-align: middle;\n",
       "    }\n",
       "\n",
       "    .dataframe tbody tr th {\n",
       "        vertical-align: top;\n",
       "    }\n",
       "\n",
       "    .dataframe thead th {\n",
       "        text-align: right;\n",
       "    }\n",
       "</style>\n",
       "<table border=\"1\" class=\"dataframe\">\n",
       "  <thead>\n",
       "    <tr style=\"text-align: right;\">\n",
       "      <th></th>\n",
       "      <th>a</th>\n",
       "      <th>b</th>\n",
       "      <th>c</th>\n",
       "      <th>d</th>\n",
       "    </tr>\n",
       "  </thead>\n",
       "  <tbody>\n",
       "    <tr>\n",
       "      <th>0</th>\n",
       "      <td>0.652781</td>\n",
       "      <td>0.750088</td>\n",
       "      <td>0.035249</td>\n",
       "      <td>0.295725</td>\n",
       "    </tr>\n",
       "    <tr>\n",
       "      <th>1</th>\n",
       "      <td>0.380578</td>\n",
       "      <td>0.346369</td>\n",
       "      <td>0.451095</td>\n",
       "      <td>0.005991</td>\n",
       "    </tr>\n",
       "    <tr>\n",
       "      <th>2</th>\n",
       "      <td>0.522846</td>\n",
       "      <td>0.724202</td>\n",
       "      <td>0.543425</td>\n",
       "      <td>0.661983</td>\n",
       "    </tr>\n",
       "    <tr>\n",
       "      <th>3</th>\n",
       "      <td>0.363064</td>\n",
       "      <td>0.419981</td>\n",
       "      <td>0.969149</td>\n",
       "      <td>0.105947</td>\n",
       "    </tr>\n",
       "    <tr>\n",
       "      <th>4</th>\n",
       "      <td>0.472265</td>\n",
       "      <td>0.322713</td>\n",
       "      <td>0.806233</td>\n",
       "      <td>0.585289</td>\n",
       "    </tr>\n",
       "  </tbody>\n",
       "</table>\n",
       "</div>"
      ],
      "text/plain": [
       "          a         b         c         d\n",
       "0  0.652781  0.750088  0.035249  0.295725\n",
       "1  0.380578  0.346369  0.451095  0.005991\n",
       "2  0.522846  0.724202  0.543425  0.661983\n",
       "3  0.363064  0.419981  0.969149  0.105947\n",
       "4  0.472265  0.322713  0.806233  0.585289"
      ]
     },
     "execution_count": 18,
     "metadata": {},
     "output_type": "execute_result"
    }
   ],
   "source": [
    "df2 = pd.DataFrame(np.random.rand(10, 4), columns=[\"a\", \"b\", \"c\", \"d\"])\n",
    "df2.head()"
   ]
  },
  {
   "cell_type": "code",
   "execution_count": 19,
   "metadata": {
    "id": "Uxcjj79qFuq3"
   },
   "outputs": [
    {
     "data": {
      "text/plain": [
       "<AxesSubplot:>"
      ]
     },
     "execution_count": 19,
     "metadata": {},
     "output_type": "execute_result"
    },
    {
     "data": {
      "image/png": "[encoded data removed]",
      "text/plain": [
       "<Figure size 432x288 with 1 Axes>"
      ]
     },
     "metadata": {
      "needs_background": "light"
     },
     "output_type": "display_data"
    }
   ],
   "source": [
    "df2.plot.bar() # x=index, y=column value, legend=column"
   ]
  },
  {
   "cell_type": "code",
   "execution_count": 20,
   "metadata": {
    "id": "5BtMzd2uFwNS"
   },
   "outputs": [
    {
     "data": {
      "text/plain": [
       "<AxesSubplot:>"
      ]
     },
     "execution_count": 20,
     "metadata": {},
     "output_type": "execute_result"
    },
    {
     "data": {
      "image/png": "[encoded data removed]",
      "text/plain": [
       "<Figure size 432x288 with 1 Axes>"
      ]
     },
     "metadata": {
      "needs_background": "light"
     },
     "output_type": "display_data"
    }
   ],
   "source": [
    "df2.plot.bar(stacked=True)"
   ]
  },
  {
   "cell_type": "code",
   "execution_count": 21,
   "metadata": {
    "id": "kmnAqqKnF0kT"
   },
   "outputs": [
    {
     "data": {
      "text/plain": [
       "0    1.733842\n",
       "1    1.184033\n",
       "2    2.452455\n",
       "3    1.858141\n",
       "4    2.186499\n",
       "5    1.922418\n",
       "6    1.470808\n",
       "7    1.670716\n",
       "8    1.839971\n",
       "9    1.726624\n",
       "dtype: float64"
      ]
     },
     "execution_count": 21,
     "metadata": {},
     "output_type": "execute_result"
    }
   ],
   "source": [
    "df2.sum(axis=1) ## stacked=True로 그린 값은 누적된 값임을 알 수 있다."
   ]
  },
  {
   "cell_type": "code",
   "execution_count": 22,
   "metadata": {
    "id": "-2hJXDClF7-z"
   },
   "outputs": [
    {
     "data": {
      "text/plain": [
       "<AxesSubplot:>"
      ]
     },
     "execution_count": 22,
     "metadata": {},
     "output_type": "execute_result"
    },
    {
     "data": {
      "image/png": "[encoded data removed]",
      "text/plain": [
       "<Figure size 432x288 with 1 Axes>"
      ]
     },
     "metadata": {
      "needs_background": "light"
     },
     "output_type": "display_data"
    }
   ],
   "source": [
    "df2.plot.barh(stacked=True)"
   ]
  },
  {
   "cell_type": "markdown",
   "metadata": {
    "id": "DP0EJbAAGeZC"
   },
   "source": [
    "### 3) box plot"
   ]
  },
  {
   "cell_type": "markdown",
   "metadata": {
    "id": "s7c0uf5IGjTD"
   },
   "source": [
    "#### box plot 설명 \n",
    "* [boxplot 설명](https://ai-creator.tistory.com/569)\n",
    "\n",
    "* https://pandas.pydata.org/pandas-docs/stable/user_guide/visualization.html\n",
    "\n",
    "\n",
    "* 더 읽어보기 \n",
    "    - [박스 플롯에 대하여 :: -[|]- Box and Whisker](https://boxnwhis.kr/2019/02/19/boxplot.html)\n",
    "    - [상자 수염 그림 - 위키백과, 우리 모두의 백과사전](https://ko.wikipedia.org/wiki/%EC%83%81%EC%9E%90_%EC%88%98%EC%97%BC_%EA%B7%B8%EB%A6%BC)"
   ]
  },
  {
   "cell_type": "code",
   "execution_count": 23,
   "metadata": {
    "id": "EFwgLPAdGspu"
   },
   "outputs": [
    {
     "data": {
      "text/html": [
       "<div>\n",
       "<style scoped>\n",
       "    .dataframe tbody tr th:only-of-type {\n",
       "        vertical-align: middle;\n",
       "    }\n",
       "\n",
       "    .dataframe tbody tr th {\n",
       "        vertical-align: top;\n",
       "    }\n",
       "\n",
       "    .dataframe thead th {\n",
       "        text-align: right;\n",
       "    }\n",
       "</style>\n",
       "<table border=\"1\" class=\"dataframe\">\n",
       "  <thead>\n",
       "    <tr style=\"text-align: right;\">\n",
       "      <th></th>\n",
       "      <th>A</th>\n",
       "      <th>B</th>\n",
       "      <th>C</th>\n",
       "      <th>D</th>\n",
       "      <th>E</th>\n",
       "    </tr>\n",
       "  </thead>\n",
       "  <tbody>\n",
       "    <tr>\n",
       "      <th>count</th>\n",
       "      <td>10.000000</td>\n",
       "      <td>10.000000</td>\n",
       "      <td>10.000000</td>\n",
       "      <td>10.000000</td>\n",
       "      <td>10.000000</td>\n",
       "    </tr>\n",
       "    <tr>\n",
       "      <th>mean</th>\n",
       "      <td>0.458560</td>\n",
       "      <td>0.535666</td>\n",
       "      <td>0.476262</td>\n",
       "      <td>0.586766</td>\n",
       "      <td>0.589887</td>\n",
       "    </tr>\n",
       "    <tr>\n",
       "      <th>std</th>\n",
       "      <td>0.278300</td>\n",
       "      <td>0.186516</td>\n",
       "      <td>0.333600</td>\n",
       "      <td>0.313598</td>\n",
       "      <td>0.364090</td>\n",
       "    </tr>\n",
       "    <tr>\n",
       "      <th>min</th>\n",
       "      <td>0.031403</td>\n",
       "      <td>0.232591</td>\n",
       "      <td>0.064366</td>\n",
       "      <td>0.065344</td>\n",
       "      <td>0.034525</td>\n",
       "    </tr>\n",
       "    <tr>\n",
       "      <th>25%</th>\n",
       "      <td>0.281517</td>\n",
       "      <td>0.390545</td>\n",
       "      <td>0.184151</td>\n",
       "      <td>0.342836</td>\n",
       "      <td>0.345757</td>\n",
       "    </tr>\n",
       "    <tr>\n",
       "      <th>50%</th>\n",
       "      <td>0.437941</td>\n",
       "      <td>0.544774</td>\n",
       "      <td>0.479939</td>\n",
       "      <td>0.590411</td>\n",
       "      <td>0.639508</td>\n",
       "    </tr>\n",
       "    <tr>\n",
       "      <th>75%</th>\n",
       "      <td>0.622709</td>\n",
       "      <td>0.672022</td>\n",
       "      <td>0.736091</td>\n",
       "      <td>0.872908</td>\n",
       "      <td>0.883458</td>\n",
       "    </tr>\n",
       "    <tr>\n",
       "      <th>max</th>\n",
       "      <td>0.933902</td>\n",
       "      <td>0.804147</td>\n",
       "      <td>0.945189</td>\n",
       "      <td>0.963782</td>\n",
       "      <td>0.994996</td>\n",
       "    </tr>\n",
       "  </tbody>\n",
       "</table>\n",
       "</div>"
      ],
      "text/plain": [
       "               A          B          C          D          E\n",
       "count  10.000000  10.000000  10.000000  10.000000  10.000000\n",
       "mean    0.458560   0.535666   0.476262   0.586766   0.589887\n",
       "std     0.278300   0.186516   0.333600   0.313598   0.364090\n",
       "min     0.031403   0.232591   0.064366   0.065344   0.034525\n",
       "25%     0.281517   0.390545   0.184151   0.342836   0.345757\n",
       "50%     0.437941   0.544774   0.479939   0.590411   0.639508\n",
       "75%     0.622709   0.672022   0.736091   0.872908   0.883458\n",
       "max     0.933902   0.804147   0.945189   0.963782   0.994996"
      ]
     },
     "execution_count": 23,
     "metadata": {},
     "output_type": "execute_result"
    }
   ],
   "source": [
    "df = pd.DataFrame(np.random.rand(10, 5), columns=[\"A\", \"B\", \"C\", \"D\", \"E\"])\n",
    "df.describe() ## 25%, 50%, 75% -> N사분위수 표현가능"
   ]
  },
  {
   "cell_type": "code",
   "execution_count": 24,
   "metadata": {
    "id": "dnwKuK5aHAjF"
   },
   "outputs": [
    {
     "data": {
      "text/plain": [
       "<AxesSubplot:>"
      ]
     },
     "execution_count": 24,
     "metadata": {},
     "output_type": "execute_result"
    },
    {
     "data": {
      "image/png": "[encoded data removed]",
      "text/plain": [
       "<Figure size 432x288 with 1 Axes>"
      ]
     },
     "metadata": {
      "needs_background": "light"
     },
     "output_type": "display_data"
    }
   ],
   "source": [
    "df.plot.box()"
   ]
  },
  {
   "cell_type": "markdown",
   "metadata": {
    "id": "mR4kWWZ8HPN6"
   },
   "source": [
    "### 4) scatter"
   ]
  },
  {
   "cell_type": "code",
   "execution_count": 25,
   "metadata": {
    "id": "SWB_ouIBIbB2"
   },
   "outputs": [],
   "source": [
    "import seaborn as sns"
   ]
  },
  {
   "cell_type": "code",
   "execution_count": 26,
   "metadata": {
    "id": "mefBAtGPIJYl"
   },
   "outputs": [
    {
     "data": {
      "text/html": [
       "<div>\n",
       "<style scoped>\n",
       "    .dataframe tbody tr th:only-of-type {\n",
       "        vertical-align: middle;\n",
       "    }\n",
       "\n",
       "    .dataframe tbody tr th {\n",
       "        vertical-align: top;\n",
       "    }\n",
       "\n",
       "    .dataframe thead th {\n",
       "        text-align: right;\n",
       "    }\n",
       "</style>\n",
       "<table border=\"1\" class=\"dataframe\">\n",
       "  <thead>\n",
       "    <tr style=\"text-align: right;\">\n",
       "      <th></th>\n",
       "      <th>a</th>\n",
       "      <th>b</th>\n",
       "      <th>c</th>\n",
       "      <th>d</th>\n",
       "      <th>species</th>\n",
       "    </tr>\n",
       "  </thead>\n",
       "  <tbody>\n",
       "    <tr>\n",
       "      <th>0</th>\n",
       "      <td>0.243715</td>\n",
       "      <td>0.604606</td>\n",
       "      <td>0.777893</td>\n",
       "      <td>0.856213</td>\n",
       "      <td>setosa</td>\n",
       "    </tr>\n",
       "    <tr>\n",
       "      <th>1</th>\n",
       "      <td>0.545189</td>\n",
       "      <td>0.589628</td>\n",
       "      <td>0.718948</td>\n",
       "      <td>0.151548</td>\n",
       "      <td>setosa</td>\n",
       "    </tr>\n",
       "    <tr>\n",
       "      <th>2</th>\n",
       "      <td>0.486323</td>\n",
       "      <td>0.294708</td>\n",
       "      <td>0.292437</td>\n",
       "      <td>0.973062</td>\n",
       "      <td>setosa</td>\n",
       "    </tr>\n",
       "    <tr>\n",
       "      <th>3</th>\n",
       "      <td>0.868027</td>\n",
       "      <td>0.256520</td>\n",
       "      <td>0.619090</td>\n",
       "      <td>0.549936</td>\n",
       "      <td>setosa</td>\n",
       "    </tr>\n",
       "    <tr>\n",
       "      <th>4</th>\n",
       "      <td>0.377310</td>\n",
       "      <td>0.602861</td>\n",
       "      <td>0.271250</td>\n",
       "      <td>0.574241</td>\n",
       "      <td>setosa</td>\n",
       "    </tr>\n",
       "    <tr>\n",
       "      <th>5</th>\n",
       "      <td>0.716785</td>\n",
       "      <td>0.299699</td>\n",
       "      <td>0.147894</td>\n",
       "      <td>0.776168</td>\n",
       "      <td>setosa</td>\n",
       "    </tr>\n",
       "    <tr>\n",
       "      <th>6</th>\n",
       "      <td>0.158956</td>\n",
       "      <td>0.973837</td>\n",
       "      <td>0.328937</td>\n",
       "      <td>0.959477</td>\n",
       "      <td>setosa</td>\n",
       "    </tr>\n",
       "    <tr>\n",
       "      <th>7</th>\n",
       "      <td>0.884334</td>\n",
       "      <td>0.417667</td>\n",
       "      <td>0.549369</td>\n",
       "      <td>0.814516</td>\n",
       "      <td>setosa</td>\n",
       "    </tr>\n",
       "    <tr>\n",
       "      <th>8</th>\n",
       "      <td>0.654820</td>\n",
       "      <td>0.299458</td>\n",
       "      <td>0.132610</td>\n",
       "      <td>0.042716</td>\n",
       "      <td>setosa</td>\n",
       "    </tr>\n",
       "    <tr>\n",
       "      <th>9</th>\n",
       "      <td>0.059729</td>\n",
       "      <td>0.908087</td>\n",
       "      <td>0.084581</td>\n",
       "      <td>0.080949</td>\n",
       "      <td>setosa</td>\n",
       "    </tr>\n",
       "    <tr>\n",
       "      <th>10</th>\n",
       "      <td>0.878684</td>\n",
       "      <td>0.960152</td>\n",
       "      <td>0.809512</td>\n",
       "      <td>0.836033</td>\n",
       "      <td>setosa</td>\n",
       "    </tr>\n",
       "    <tr>\n",
       "      <th>11</th>\n",
       "      <td>0.188721</td>\n",
       "      <td>0.568209</td>\n",
       "      <td>0.821019</td>\n",
       "      <td>0.030545</td>\n",
       "      <td>setosa</td>\n",
       "    </tr>\n",
       "    <tr>\n",
       "      <th>12</th>\n",
       "      <td>0.133709</td>\n",
       "      <td>0.912621</td>\n",
       "      <td>0.513926</td>\n",
       "      <td>0.980164</td>\n",
       "      <td>setosa</td>\n",
       "    </tr>\n",
       "    <tr>\n",
       "      <th>13</th>\n",
       "      <td>0.375045</td>\n",
       "      <td>0.013367</td>\n",
       "      <td>0.612758</td>\n",
       "      <td>0.397423</td>\n",
       "      <td>setosa</td>\n",
       "    </tr>\n",
       "    <tr>\n",
       "      <th>14</th>\n",
       "      <td>0.649926</td>\n",
       "      <td>0.058457</td>\n",
       "      <td>0.284790</td>\n",
       "      <td>0.306522</td>\n",
       "      <td>setosa</td>\n",
       "    </tr>\n",
       "    <tr>\n",
       "      <th>15</th>\n",
       "      <td>0.567797</td>\n",
       "      <td>0.535807</td>\n",
       "      <td>0.532437</td>\n",
       "      <td>0.522975</td>\n",
       "      <td>setosa</td>\n",
       "    </tr>\n",
       "    <tr>\n",
       "      <th>16</th>\n",
       "      <td>0.652519</td>\n",
       "      <td>0.922862</td>\n",
       "      <td>0.887256</td>\n",
       "      <td>0.944279</td>\n",
       "      <td>setosa</td>\n",
       "    </tr>\n",
       "    <tr>\n",
       "      <th>17</th>\n",
       "      <td>0.977499</td>\n",
       "      <td>0.488069</td>\n",
       "      <td>0.338301</td>\n",
       "      <td>0.777915</td>\n",
       "      <td>setosa</td>\n",
       "    </tr>\n",
       "    <tr>\n",
       "      <th>18</th>\n",
       "      <td>0.637034</td>\n",
       "      <td>0.972695</td>\n",
       "      <td>0.456537</td>\n",
       "      <td>0.028107</td>\n",
       "      <td>setosa</td>\n",
       "    </tr>\n",
       "    <tr>\n",
       "      <th>19</th>\n",
       "      <td>0.587231</td>\n",
       "      <td>0.180655</td>\n",
       "      <td>0.075171</td>\n",
       "      <td>0.027229</td>\n",
       "      <td>setosa</td>\n",
       "    </tr>\n",
       "    <tr>\n",
       "      <th>20</th>\n",
       "      <td>0.331114</td>\n",
       "      <td>0.170818</td>\n",
       "      <td>0.422848</td>\n",
       "      <td>0.703152</td>\n",
       "      <td>versicolor</td>\n",
       "    </tr>\n",
       "    <tr>\n",
       "      <th>21</th>\n",
       "      <td>0.182850</td>\n",
       "      <td>0.391794</td>\n",
       "      <td>0.189417</td>\n",
       "      <td>0.677519</td>\n",
       "      <td>versicolor</td>\n",
       "    </tr>\n",
       "    <tr>\n",
       "      <th>22</th>\n",
       "      <td>0.763855</td>\n",
       "      <td>0.696296</td>\n",
       "      <td>0.556279</td>\n",
       "      <td>0.450138</td>\n",
       "      <td>versicolor</td>\n",
       "    </tr>\n",
       "    <tr>\n",
       "      <th>23</th>\n",
       "      <td>0.874039</td>\n",
       "      <td>0.626506</td>\n",
       "      <td>0.931406</td>\n",
       "      <td>0.340361</td>\n",
       "      <td>versicolor</td>\n",
       "    </tr>\n",
       "    <tr>\n",
       "      <th>24</th>\n",
       "      <td>0.400266</td>\n",
       "      <td>0.757885</td>\n",
       "      <td>0.364146</td>\n",
       "      <td>0.174493</td>\n",
       "      <td>versicolor</td>\n",
       "    </tr>\n",
       "    <tr>\n",
       "      <th>25</th>\n",
       "      <td>0.098880</td>\n",
       "      <td>0.092473</td>\n",
       "      <td>0.638463</td>\n",
       "      <td>0.159815</td>\n",
       "      <td>versicolor</td>\n",
       "    </tr>\n",
       "    <tr>\n",
       "      <th>26</th>\n",
       "      <td>0.496341</td>\n",
       "      <td>0.543943</td>\n",
       "      <td>0.673841</td>\n",
       "      <td>0.736768</td>\n",
       "      <td>versicolor</td>\n",
       "    </tr>\n",
       "    <tr>\n",
       "      <th>27</th>\n",
       "      <td>0.299746</td>\n",
       "      <td>0.755445</td>\n",
       "      <td>0.216811</td>\n",
       "      <td>0.180985</td>\n",
       "      <td>versicolor</td>\n",
       "    </tr>\n",
       "    <tr>\n",
       "      <th>28</th>\n",
       "      <td>0.507802</td>\n",
       "      <td>0.176115</td>\n",
       "      <td>0.250445</td>\n",
       "      <td>0.687924</td>\n",
       "      <td>versicolor</td>\n",
       "    </tr>\n",
       "    <tr>\n",
       "      <th>29</th>\n",
       "      <td>0.258881</td>\n",
       "      <td>0.081823</td>\n",
       "      <td>0.412687</td>\n",
       "      <td>0.741346</td>\n",
       "      <td>versicolor</td>\n",
       "    </tr>\n",
       "    <tr>\n",
       "      <th>30</th>\n",
       "      <td>0.143857</td>\n",
       "      <td>0.592633</td>\n",
       "      <td>0.547410</td>\n",
       "      <td>0.766456</td>\n",
       "      <td>versicolor</td>\n",
       "    </tr>\n",
       "    <tr>\n",
       "      <th>31</th>\n",
       "      <td>0.768055</td>\n",
       "      <td>0.378124</td>\n",
       "      <td>0.635101</td>\n",
       "      <td>0.279405</td>\n",
       "      <td>versicolor</td>\n",
       "    </tr>\n",
       "    <tr>\n",
       "      <th>32</th>\n",
       "      <td>0.526462</td>\n",
       "      <td>0.393948</td>\n",
       "      <td>0.697114</td>\n",
       "      <td>0.693357</td>\n",
       "      <td>versicolor</td>\n",
       "    </tr>\n",
       "    <tr>\n",
       "      <th>33</th>\n",
       "      <td>0.456315</td>\n",
       "      <td>0.004858</td>\n",
       "      <td>0.484909</td>\n",
       "      <td>0.196073</td>\n",
       "      <td>versicolor</td>\n",
       "    </tr>\n",
       "    <tr>\n",
       "      <th>34</th>\n",
       "      <td>0.226720</td>\n",
       "      <td>0.354234</td>\n",
       "      <td>0.391857</td>\n",
       "      <td>0.316763</td>\n",
       "      <td>versicolor</td>\n",
       "    </tr>\n",
       "    <tr>\n",
       "      <th>35</th>\n",
       "      <td>0.264722</td>\n",
       "      <td>0.130880</td>\n",
       "      <td>0.706093</td>\n",
       "      <td>0.646495</td>\n",
       "      <td>versicolor</td>\n",
       "    </tr>\n",
       "    <tr>\n",
       "      <th>36</th>\n",
       "      <td>0.599798</td>\n",
       "      <td>0.712294</td>\n",
       "      <td>0.239976</td>\n",
       "      <td>0.923499</td>\n",
       "      <td>versicolor</td>\n",
       "    </tr>\n",
       "    <tr>\n",
       "      <th>37</th>\n",
       "      <td>0.006024</td>\n",
       "      <td>0.224455</td>\n",
       "      <td>0.966500</td>\n",
       "      <td>0.219510</td>\n",
       "      <td>versicolor</td>\n",
       "    </tr>\n",
       "    <tr>\n",
       "      <th>38</th>\n",
       "      <td>0.266376</td>\n",
       "      <td>0.748628</td>\n",
       "      <td>0.465303</td>\n",
       "      <td>0.534944</td>\n",
       "      <td>versicolor</td>\n",
       "    </tr>\n",
       "    <tr>\n",
       "      <th>39</th>\n",
       "      <td>0.002928</td>\n",
       "      <td>0.570379</td>\n",
       "      <td>0.673944</td>\n",
       "      <td>0.069073</td>\n",
       "      <td>versicolor</td>\n",
       "    </tr>\n",
       "    <tr>\n",
       "      <th>40</th>\n",
       "      <td>0.812699</td>\n",
       "      <td>0.507631</td>\n",
       "      <td>0.732237</td>\n",
       "      <td>0.527148</td>\n",
       "      <td>virginica</td>\n",
       "    </tr>\n",
       "    <tr>\n",
       "      <th>41</th>\n",
       "      <td>0.305430</td>\n",
       "      <td>0.042455</td>\n",
       "      <td>0.234508</td>\n",
       "      <td>0.411257</td>\n",
       "      <td>virginica</td>\n",
       "    </tr>\n",
       "    <tr>\n",
       "      <th>42</th>\n",
       "      <td>0.936709</td>\n",
       "      <td>0.292325</td>\n",
       "      <td>0.704654</td>\n",
       "      <td>0.080906</td>\n",
       "      <td>virginica</td>\n",
       "    </tr>\n",
       "    <tr>\n",
       "      <th>43</th>\n",
       "      <td>0.991501</td>\n",
       "      <td>0.015400</td>\n",
       "      <td>0.228961</td>\n",
       "      <td>0.140458</td>\n",
       "      <td>virginica</td>\n",
       "    </tr>\n",
       "    <tr>\n",
       "      <th>44</th>\n",
       "      <td>0.974260</td>\n",
       "      <td>0.428190</td>\n",
       "      <td>0.594421</td>\n",
       "      <td>0.428356</td>\n",
       "      <td>virginica</td>\n",
       "    </tr>\n",
       "    <tr>\n",
       "      <th>45</th>\n",
       "      <td>0.595923</td>\n",
       "      <td>0.410482</td>\n",
       "      <td>0.552019</td>\n",
       "      <td>0.282269</td>\n",
       "      <td>virginica</td>\n",
       "    </tr>\n",
       "    <tr>\n",
       "      <th>46</th>\n",
       "      <td>0.271711</td>\n",
       "      <td>0.267416</td>\n",
       "      <td>0.005815</td>\n",
       "      <td>0.993495</td>\n",
       "      <td>virginica</td>\n",
       "    </tr>\n",
       "    <tr>\n",
       "      <th>47</th>\n",
       "      <td>0.960975</td>\n",
       "      <td>0.543064</td>\n",
       "      <td>0.349179</td>\n",
       "      <td>0.366437</td>\n",
       "      <td>virginica</td>\n",
       "    </tr>\n",
       "    <tr>\n",
       "      <th>48</th>\n",
       "      <td>0.207874</td>\n",
       "      <td>0.747023</td>\n",
       "      <td>0.153279</td>\n",
       "      <td>0.069321</td>\n",
       "      <td>virginica</td>\n",
       "    </tr>\n",
       "    <tr>\n",
       "      <th>49</th>\n",
       "      <td>0.100868</td>\n",
       "      <td>0.106046</td>\n",
       "      <td>0.236519</td>\n",
       "      <td>0.116608</td>\n",
       "      <td>virginica</td>\n",
       "    </tr>\n",
       "  </tbody>\n",
       "</table>\n",
       "</div>"
      ],
      "text/plain": [
       "           a         b         c         d     species\n",
       "0   0.243715  0.604606  0.777893  0.856213      setosa\n",
       "1   0.545189  0.589628  0.718948  0.151548      setosa\n",
       "2   0.486323  0.294708  0.292437  0.973062      setosa\n",
       "3   0.868027  0.256520  0.619090  0.549936      setosa\n",
       "4   0.377310  0.602861  0.271250  0.574241      setosa\n",
       "5   0.716785  0.299699  0.147894  0.776168      setosa\n",
       "6   0.158956  0.973837  0.328937  0.959477      setosa\n",
       "7   0.884334  0.417667  0.549369  0.814516      setosa\n",
       "8   0.654820  0.299458  0.132610  0.042716      setosa\n",
       "9   0.059729  0.908087  0.084581  0.080949      setosa\n",
       "10  0.878684  0.960152  0.809512  0.836033      setosa\n",
       "11  0.188721  0.568209  0.821019  0.030545      setosa\n",
       "12  0.133709  0.912621  0.513926  0.980164      setosa\n",
       "13  0.375045  0.013367  0.612758  0.397423      setosa\n",
       "14  0.649926  0.058457  0.284790  0.306522      setosa\n",
       "15  0.567797  0.535807  0.532437  0.522975      setosa\n",
       "16  0.652519  0.922862  0.887256  0.944279      setosa\n",
       "17  0.977499  0.488069  0.338301  0.777915      setosa\n",
       "18  0.637034  0.972695  0.456537  0.028107      setosa\n",
       "19  0.587231  0.180655  0.075171  0.027229      setosa\n",
       "20  0.331114  0.170818  0.422848  0.703152  versicolor\n",
       "21  0.182850  0.391794  0.189417  0.677519  versicolor\n",
       "22  0.763855  0.696296  0.556279  0.450138  versicolor\n",
       "23  0.874039  0.626506  0.931406  0.340361  versicolor\n",
       "24  0.400266  0.757885  0.364146  0.174493  versicolor\n",
       "25  0.098880  0.092473  0.638463  0.159815  versicolor\n",
       "26  0.496341  0.543943  0.673841  0.736768  versicolor\n",
       "27  0.299746  0.755445  0.216811  0.180985  versicolor\n",
       "28  0.507802  0.176115  0.250445  0.687924  versicolor\n",
       "29  0.258881  0.081823  0.412687  0.741346  versicolor\n",
       "30  0.143857  0.592633  0.547410  0.766456  versicolor\n",
       "31  0.768055  0.378124  0.635101  0.279405  versicolor\n",
       "32  0.526462  0.393948  0.697114  0.693357  versicolor\n",
       "33  0.456315  0.004858  0.484909  0.196073  versicolor\n",
       "34  0.226720  0.354234  0.391857  0.316763  versicolor\n",
       "35  0.264722  0.130880  0.706093  0.646495  versicolor\n",
       "36  0.599798  0.712294  0.239976  0.923499  versicolor\n",
       "37  0.006024  0.224455  0.966500  0.219510  versicolor\n",
       "38  0.266376  0.748628  0.465303  0.534944  versicolor\n",
       "39  0.002928  0.570379  0.673944  0.069073  versicolor\n",
       "40  0.812699  0.507631  0.732237  0.527148   virginica\n",
       "41  0.305430  0.042455  0.234508  0.411257   virginica\n",
       "42  0.936709  0.292325  0.704654  0.080906   virginica\n",
       "43  0.991501  0.015400  0.228961  0.140458   virginica\n",
       "44  0.974260  0.428190  0.594421  0.428356   virginica\n",
       "45  0.595923  0.410482  0.552019  0.282269   virginica\n",
       "46  0.271711  0.267416  0.005815  0.993495   virginica\n",
       "47  0.960975  0.543064  0.349179  0.366437   virginica\n",
       "48  0.207874  0.747023  0.153279  0.069321   virginica\n",
       "49  0.100868  0.106046  0.236519  0.116608   virginica"
      ]
     },
     "execution_count": 26,
     "metadata": {},
     "output_type": "execute_result"
    }
   ],
   "source": [
    "df = pd.DataFrame(np.random.rand(50, 4), columns=['a', 'b', 'c', 'd'])\n",
    "df[\"species\"] = pd.Categorical([\"setosa\"] * 20 + [\"versicolor\"] * 20 + [\"virginica\"] * 10 )\n",
    "df"
   ]
  },
  {
   "cell_type": "code",
   "execution_count": 27,
   "metadata": {
    "id": "y433JvrUIYpt"
   },
   "outputs": [
    {
     "data": {
      "text/plain": [
       "<AxesSubplot:xlabel='a', ylabel='b'>"
      ]
     },
     "execution_count": 27,
     "metadata": {},
     "output_type": "execute_result"
    },
    {
     "data": {
      "image/png": "[encoded data removed]",
      "text/plain": [
       "<Figure size 432x288 with 1 Axes>"
      ]
     },
     "metadata": {
      "needs_background": "light"
     },
     "output_type": "display_data"
    }
   ],
   "source": [
    "df.plot.scatter(x=\"a\", y=\"b\")"
   ]
  },
  {
   "cell_type": "code",
   "execution_count": 28,
   "metadata": {
    "id": "a0rMvRzOIqTa"
   },
   "outputs": [
    {
     "data": {
      "text/plain": [
       "<AxesSubplot:xlabel='c', ylabel='d'>"
      ]
     },
     "execution_count": 28,
     "metadata": {},
     "output_type": "execute_result"
    },
    {
     "data": {
      "image/png": "[encoded data removed]",
      "text/plain": [
       "<Figure size 432x288 with 1 Axes>"
      ]
     },
     "metadata": {
      "needs_background": "light"
     },
     "output_type": "display_data"
    }
   ],
   "source": [
    "ax = df.plot.scatter(x=\"a\", y=\"b\", color=\"DarkBlue\", label=\"Group 1\")\n",
    "df.plot.scatter(x=\"c\", y=\"d\", color=\"DarkGreen\", label=\"Group 2\", ax=ax) # ax를 넣어줌으로써 그래프는 총 2번이 그려짐"
   ]
  },
  {
   "cell_type": "code",
   "execution_count": 29,
   "metadata": {
    "id": "uNloTN7KIw2x"
   },
   "outputs": [
    {
     "name": "stderr",
     "output_type": "stream",
     "text": [
      "/Library/Frameworks/Python.framework/Versions/3.8/lib/python3.8/site-packages/pandas/plotting/_matplotlib/tools.py:400: MatplotlibDeprecationWarning: \n",
      "The is_first_col function was deprecated in Matplotlib 3.4 and will be removed two minor releases later. Use ax.get_subplotspec().is_first_col() instead.\n",
      "  if ax.is_first_col():\n"
     ]
    },
    {
     "data": {
      "text/plain": [
       "<AxesSubplot:xlabel='a', ylabel='b'>"
      ]
     },
     "execution_count": 29,
     "metadata": {},
     "output_type": "execute_result"
    },
    {
     "data": {
      "image/png": "[encoded data removed]",
      "text/plain": [
       "<Figure size 432x288 with 2 Axes>"
      ]
     },
     "metadata": {
      "needs_background": "light"
     },
     "output_type": "display_data"
    }
   ],
   "source": [
    "df.plot.scatter(x=\"a\", y=\"b\", c=\"c\", s=50)"
   ]
  },
  {
   "cell_type": "markdown",
   "metadata": {
    "id": "eUrhouMCKQxO"
   },
   "source": [
    "### 5) pie"
   ]
  },
  {
   "cell_type": "code",
   "execution_count": 32,
   "metadata": {
    "id": "76zKH69CKqM6"
   },
   "outputs": [
    {
     "data": {
      "text/plain": [
       "a    2.108446\n",
       "b    0.724269\n",
       "c    0.625357\n",
       "d    2.423444\n",
       "Name: series, dtype: float64"
      ]
     },
     "execution_count": 32,
     "metadata": {},
     "output_type": "execute_result"
    }
   ],
   "source": [
    "series = pd.Series(3 * np.random.rand(4), index=[\"a\", \"b\", \"c\", \"d\"], name=\"series\")\n",
    "series"
   ]
  },
  {
   "cell_type": "code",
   "execution_count": 33,
   "metadata": {
    "id": "Mlj0txibKshl"
   },
   "outputs": [
    {
     "data": {
      "text/plain": [
       "<AxesSubplot:ylabel='series'>"
      ]
     },
     "execution_count": 33,
     "metadata": {},
     "output_type": "execute_result"
    },
    {
     "data": {
      "image/png": "[encoded data removed]",
      "text/plain": [
       "<Figure size 432x432 with 1 Axes>"
      ]
     },
     "metadata": {},
     "output_type": "display_data"
    }
   ],
   "source": [
    "series.plot.pie(figsize=(6, 6))"
   ]
  },
  {
   "cell_type": "code",
   "execution_count": 34,
   "metadata": {
    "id": "aKBX9YeoKuSE"
   },
   "outputs": [
    {
     "data": {
      "text/plain": [
       "<AxesSubplot:ylabel='series'>"
      ]
     },
     "execution_count": 34,
     "metadata": {},
     "output_type": "execute_result"
    },
    {
     "data": {
      "image/png": "[encoded data removed]",
      "text/plain": [
       "<Figure size 432x432 with 1 Axes>"
      ]
     },
     "metadata": {},
     "output_type": "display_data"
    }
   ],
   "source": [
    "series.plot.pie(\n",
    "                labels=[\"AA\", \"BB\", \"CC\", \"DD\"],\n",
    "                colors=[\"r\", \"g\", \"b\", \"c\"],\n",
    "                autopct=\"%.2f\", # auto percentage\n",
    "                fontsize=20,\n",
    "                figsize=(6, 6)\n",
    "               )"
   ]
  },
  {
   "cell_type": "markdown",
   "metadata": {
    "id": "ONNDRViOK1vY"
   },
   "source": [
    "# ㅁ 코로나 데이터 사용\n",
    "- **data/서울시 코로나19 확진자 현황.csv**\n",
    "파일을 이용하여 다음과 같은 2가지 그래프를 완성하세요.\n",
    "***\n",
    "1. 일별 코로나 확진자 발생 추이\n",
    "<img src='https://drive.google.com/uc?id=1E18OC53eLVPAlxCsKWxU1PhLJTq5ZQYS'><br></br>\n",
    "\n",
    "2. 일별 코로나 확진자 누적 추이\n",
    "<img src='https://drive.google.com/uc?id=10gVYLDfNK1ZeJvkRwPILsfSSlG7J27V2'><br></br>"
   ]
  },
  {
   "cell_type": "code",
   "execution_count": 37,
   "metadata": {
    "id": "dDGY0omP5jTT"
   },
   "outputs": [
    {
     "data": {
      "text/html": [
       "<div>\n",
       "<style scoped>\n",
       "    .dataframe tbody tr th:only-of-type {\n",
       "        vertical-align: middle;\n",
       "    }\n",
       "\n",
       "    .dataframe tbody tr th {\n",
       "        vertical-align: top;\n",
       "    }\n",
       "\n",
       "    .dataframe thead th {\n",
       "        text-align: right;\n",
       "    }\n",
       "</style>\n",
       "<table border=\"1\" class=\"dataframe\">\n",
       "  <thead>\n",
       "    <tr style=\"text-align: right;\">\n",
       "      <th></th>\n",
       "      <th>연번</th>\n",
       "      <th>확진일</th>\n",
       "      <th>환자번호</th>\n",
       "      <th>국적</th>\n",
       "      <th>환자정보</th>\n",
       "      <th>지역</th>\n",
       "      <th>여행력</th>\n",
       "      <th>접촉력</th>\n",
       "      <th>조치사항</th>\n",
       "      <th>상태</th>\n",
       "      <th>이동경로</th>\n",
       "      <th>등록일</th>\n",
       "      <th>수정일</th>\n",
       "      <th>노출여부</th>\n",
       "    </tr>\n",
       "  </thead>\n",
       "  <tbody>\n",
       "    <tr>\n",
       "      <th>0</th>\n",
       "      <td>77940</td>\n",
       "      <td>2021-08-27</td>\n",
       "      <td>NaN</td>\n",
       "      <td>NaN</td>\n",
       "      <td>NaN</td>\n",
       "      <td>타시도</td>\n",
       "      <td>NaN</td>\n",
       "      <td>수도권 소재 실내체육시설 관련</td>\n",
       "      <td>NaN</td>\n",
       "      <td>-</td>\n",
       "      <td>NaN</td>\n",
       "      <td>2021-08-28 10:23:11</td>\n",
       "      <td>2021-08-28 10:23:11</td>\n",
       "      <td>Y</td>\n",
       "    </tr>\n",
       "    <tr>\n",
       "      <th>1</th>\n",
       "      <td>77939</td>\n",
       "      <td>2021-08-27</td>\n",
       "      <td>NaN</td>\n",
       "      <td>NaN</td>\n",
       "      <td>NaN</td>\n",
       "      <td>타시도</td>\n",
       "      <td>NaN</td>\n",
       "      <td>기타 확진자 접촉</td>\n",
       "      <td>NaN</td>\n",
       "      <td>-</td>\n",
       "      <td>NaN</td>\n",
       "      <td>2021-08-28 10:23:11</td>\n",
       "      <td>2021-08-28 10:23:11</td>\n",
       "      <td>Y</td>\n",
       "    </tr>\n",
       "    <tr>\n",
       "      <th>2</th>\n",
       "      <td>77938</td>\n",
       "      <td>2021-08-27</td>\n",
       "      <td>NaN</td>\n",
       "      <td>NaN</td>\n",
       "      <td>NaN</td>\n",
       "      <td>강남구</td>\n",
       "      <td>NaN</td>\n",
       "      <td>감염경로 조사중</td>\n",
       "      <td>NaN</td>\n",
       "      <td>-</td>\n",
       "      <td>NaN</td>\n",
       "      <td>2021-08-28 10:23:11</td>\n",
       "      <td>2021-08-28 10:23:11</td>\n",
       "      <td>Y</td>\n",
       "    </tr>\n",
       "    <tr>\n",
       "      <th>3</th>\n",
       "      <td>77937</td>\n",
       "      <td>2021-08-27</td>\n",
       "      <td>NaN</td>\n",
       "      <td>NaN</td>\n",
       "      <td>NaN</td>\n",
       "      <td>타시도</td>\n",
       "      <td>NaN</td>\n",
       "      <td>타시도 확진자 접촉</td>\n",
       "      <td>NaN</td>\n",
       "      <td>-</td>\n",
       "      <td>NaN</td>\n",
       "      <td>2021-08-28 10:23:11</td>\n",
       "      <td>2021-08-28 10:23:11</td>\n",
       "      <td>Y</td>\n",
       "    </tr>\n",
       "    <tr>\n",
       "      <th>4</th>\n",
       "      <td>77936</td>\n",
       "      <td>2021-08-27</td>\n",
       "      <td>NaN</td>\n",
       "      <td>NaN</td>\n",
       "      <td>NaN</td>\n",
       "      <td>금천구</td>\n",
       "      <td>NaN</td>\n",
       "      <td>감염경로 조사중</td>\n",
       "      <td>NaN</td>\n",
       "      <td>-</td>\n",
       "      <td>NaN</td>\n",
       "      <td>2021-08-28 10:23:11</td>\n",
       "      <td>2021-08-28 10:23:11</td>\n",
       "      <td>Y</td>\n",
       "    </tr>\n",
       "  </tbody>\n",
       "</table>\n",
       "</div>"
      ],
      "text/plain": [
       "      연번         확진일  환자번호  국적  환자정보   지역  여행력               접촉력  조치사항 상태  \\\n",
       "0  77940  2021-08-27   NaN NaN   NaN  타시도  NaN  수도권 소재 실내체육시설 관련   NaN  -   \n",
       "1  77939  2021-08-27   NaN NaN   NaN  타시도  NaN         기타 확진자 접촉   NaN  -   \n",
       "2  77938  2021-08-27   NaN NaN   NaN  강남구  NaN          감염경로 조사중   NaN  -   \n",
       "3  77937  2021-08-27   NaN NaN   NaN  타시도  NaN        타시도 확진자 접촉   NaN  -   \n",
       "4  77936  2021-08-27   NaN NaN   NaN  금천구  NaN          감염경로 조사중   NaN  -   \n",
       "\n",
       "   이동경로                  등록일                  수정일 노출여부  \n",
       "0   NaN  2021-08-28 10:23:11  2021-08-28 10:23:11    Y  \n",
       "1   NaN  2021-08-28 10:23:11  2021-08-28 10:23:11    Y  \n",
       "2   NaN  2021-08-28 10:23:11  2021-08-28 10:23:11    Y  \n",
       "3   NaN  2021-08-28 10:23:11  2021-08-28 10:23:11    Y  \n",
       "4   NaN  2021-08-28 10:23:11  2021-08-28 10:23:11    Y  "
      ]
     },
     "execution_count": 37,
     "metadata": {},
     "output_type": "execute_result"
    }
   ],
   "source": [
    "df = pd.read_csv(\"../3 weeks hw/서울시 코로나19 확진자 현황.csv\")\n",
    "df.head()"
   ]
  },
  {
   "cell_type": "code",
   "execution_count": 39,
   "metadata": {},
   "outputs": [
    {
     "data": {
      "text/plain": [
       "<AxesSubplot:xlabel='확진일'>"
      ]
     },
     "execution_count": 39,
     "metadata": {},
     "output_type": "execute_result"
    },
    {
     "name": "stderr",
     "output_type": "stream",
     "text": [
      "/Library/Frameworks/Python.framework/Versions/3.8/lib/python3.8/site-packages/matplotlib/backends/backend_agg.py:240: RuntimeWarning: Glyph 54869 missing from current font.\n",
      "  font.set_text(s, 0.0, flags=flags)\n",
      "/Library/Frameworks/Python.framework/Versions/3.8/lib/python3.8/site-packages/matplotlib/backends/backend_agg.py:240: RuntimeWarning: Glyph 51652 missing from current font.\n",
      "  font.set_text(s, 0.0, flags=flags)\n",
      "/Library/Frameworks/Python.framework/Versions/3.8/lib/python3.8/site-packages/matplotlib/backends/backend_agg.py:240: RuntimeWarning: Glyph 51068 missing from current font.\n",
      "  font.set_text(s, 0.0, flags=flags)\n",
      "/Library/Frameworks/Python.framework/Versions/3.8/lib/python3.8/site-packages/matplotlib/backends/backend_agg.py:203: RuntimeWarning: Glyph 54869 missing from current font.\n",
      "  font.set_text(s, 0, flags=flags)\n",
      "/Library/Frameworks/Python.framework/Versions/3.8/lib/python3.8/site-packages/matplotlib/backends/backend_agg.py:203: RuntimeWarning: Glyph 51652 missing from current font.\n",
      "  font.set_text(s, 0, flags=flags)\n",
      "/Library/Frameworks/Python.framework/Versions/3.8/lib/python3.8/site-packages/matplotlib/backends/backend_agg.py:203: RuntimeWarning: Glyph 51068 missing from current font.\n",
      "  font.set_text(s, 0, flags=flags)\n"
     ]
    },
    {
     "data": {
      "image/png": "[encoded data removed]",
      "text/plain": [
       "<Figure size 432x288 with 1 Axes>"
      ]
     },
     "metadata": {
      "needs_background": "light"
     },
     "output_type": "display_data"
    }
   ],
   "source": [
    "g = df.groupby(by=\"확진일\").size()\n",
    "g.plot()"
   ]
  },
  {
   "cell_type": "code",
   "execution_count": 40,
   "metadata": {},
   "outputs": [
    {
     "data": {
      "text/plain": [
       "<AxesSubplot:xlabel='확진일'>"
      ]
     },
     "execution_count": 40,
     "metadata": {},
     "output_type": "execute_result"
    },
    {
     "name": "stderr",
     "output_type": "stream",
     "text": [
      "/Library/Frameworks/Python.framework/Versions/3.8/lib/python3.8/site-packages/matplotlib/backends/backend_agg.py:240: RuntimeWarning: Glyph 54869 missing from current font.\n",
      "  font.set_text(s, 0.0, flags=flags)\n",
      "/Library/Frameworks/Python.framework/Versions/3.8/lib/python3.8/site-packages/matplotlib/backends/backend_agg.py:240: RuntimeWarning: Glyph 51652 missing from current font.\n",
      "  font.set_text(s, 0.0, flags=flags)\n",
      "/Library/Frameworks/Python.framework/Versions/3.8/lib/python3.8/site-packages/matplotlib/backends/backend_agg.py:240: RuntimeWarning: Glyph 51068 missing from current font.\n",
      "  font.set_text(s, 0.0, flags=flags)\n",
      "/Library/Frameworks/Python.framework/Versions/3.8/lib/python3.8/site-packages/matplotlib/backends/backend_agg.py:203: RuntimeWarning: Glyph 54869 missing from current font.\n",
      "  font.set_text(s, 0, flags=flags)\n",
      "/Library/Frameworks/Python.framework/Versions/3.8/lib/python3.8/site-packages/matplotlib/backends/backend_agg.py:203: RuntimeWarning: Glyph 51652 missing from current font.\n",
      "  font.set_text(s, 0, flags=flags)\n",
      "/Library/Frameworks/Python.framework/Versions/3.8/lib/python3.8/site-packages/matplotlib/backends/backend_agg.py:203: RuntimeWarning: Glyph 51068 missing from current font.\n",
      "  font.set_text(s, 0, flags=flags)\n"
     ]
    },
    {
     "data": {
      "image/png": "[encoded data removed]",
      "text/plain": [
       "<Figure size 432x288 with 1 Axes>"
      ]
     },
     "metadata": {
      "needs_background": "light"
     },
     "output_type": "display_data"
    }
   ],
   "source": [
    "c = g.cumsum()\n",
    "c.plot()"
   ]
  },
  {
   "cell_type": "code",
   "execution_count": 41,
   "metadata": {},
   "outputs": [
    {
     "data": {
      "text/plain": [
       "<AxesSubplot:>"
      ]
     },
     "execution_count": 41,
     "metadata": {},
     "output_type": "execute_result"
    },
    {
     "data": {
      "image/png": "[encoded data removed]",
      "text/plain": [
       "<Figure size 1080x288 with 1 Axes>"
      ]
     },
     "metadata": {
      "needs_background": "light"
     },
     "output_type": "display_data"
    }
   ],
   "source": [
    "df[\"확진일\"].value_counts().sort_index().plot(figsize=(15, 4))"
   ]
  },
  {
   "cell_type": "code",
   "execution_count": 43,
   "metadata": {},
   "outputs": [
    {
     "data": {
      "text/plain": [
       "<AxesSubplot:>"
      ]
     },
     "execution_count": 43,
     "metadata": {},
     "output_type": "execute_result"
    },
    {
     "data": {
      "image/png": "[encoded data removed]",
      "text/plain": [
       "<Figure size 1080x288 with 1 Axes>"
      ]
     },
     "metadata": {
      "needs_background": "light"
     },
     "output_type": "display_data"
    }
   ],
   "source": [
    "df[\"확진일\"].value_counts().sort_index().cumsum().plot(figsize=(15, 4))"
   ]
  },
  {
   "cell_type": "code",
   "execution_count": null,
   "metadata": {},
   "outputs": [],
   "source": []
  }
 ],
 "metadata": {
  "colab": {
   "collapsed_sections": [
    "DP0EJbAAGeZC"
   ],
   "name": "02_Visualize_pandas.ipynb",
   "provenance": []
  },
  "kernelspec": {
   "display_name": "Python 3 (ipykernel)",
   "language": "python",
   "name": "python3"
  },
  "language_info": {
   "codemirror_mode": {
    "name": "ipython",
    "version": 3
   },
   "file_extension": ".py",
   "mimetype": "text/x-python",
   "name": "python",
   "nbconvert_exporter": "python",
   "pygments_lexer": "ipython3",
   "version": "3.8.1"
  }
 },
 "nbformat": 4,
 "nbformat_minor": 4
}
